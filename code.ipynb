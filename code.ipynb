{
 "cells": [
  {
   "cell_type": "markdown",
   "id": "bc96d756",
   "metadata": {},
   "source": [
    "# Data Cleaning and Data Analysis"
   ]
  },
  {
   "cell_type": "code",
   "execution_count": 178,
   "id": "d0e0c763",
   "metadata": {},
   "outputs": [],
   "source": [
    "import pandas as pd\n",
    "\n",
    "#load the dataset\n",
    "dataset = pd.read_csv('heart.csv')"
   ]
  },
  {
   "cell_type": "code",
   "execution_count": 179,
   "id": "f679e4f4",
   "metadata": {},
   "outputs": [
    {
     "data": {
      "text/html": [
       "<div>\n",
       "<style scoped>\n",
       "    .dataframe tbody tr th:only-of-type {\n",
       "        vertical-align: middle;\n",
       "    }\n",
       "\n",
       "    .dataframe tbody tr th {\n",
       "        vertical-align: top;\n",
       "    }\n",
       "\n",
       "    .dataframe thead th {\n",
       "        text-align: right;\n",
       "    }\n",
       "</style>\n",
       "<table border=\"1\" class=\"dataframe\">\n",
       "  <thead>\n",
       "    <tr style=\"text-align: right;\">\n",
       "      <th></th>\n",
       "      <th>Age</th>\n",
       "      <th>Sex</th>\n",
       "      <th>ChestPainType</th>\n",
       "      <th>RestingBP</th>\n",
       "      <th>Cholesterol</th>\n",
       "      <th>FastingBS</th>\n",
       "      <th>RestingECG</th>\n",
       "      <th>MaxHR</th>\n",
       "      <th>ExerciseAngina</th>\n",
       "      <th>Oldpeak</th>\n",
       "      <th>ST_Slope</th>\n",
       "      <th>HeartDisease</th>\n",
       "    </tr>\n",
       "  </thead>\n",
       "  <tbody>\n",
       "    <tr>\n",
       "      <th>0</th>\n",
       "      <td>40</td>\n",
       "      <td>M</td>\n",
       "      <td>ATA</td>\n",
       "      <td>140</td>\n",
       "      <td>289.0</td>\n",
       "      <td>0.0</td>\n",
       "      <td>Normal</td>\n",
       "      <td>172.0</td>\n",
       "      <td>N</td>\n",
       "      <td>0.0</td>\n",
       "      <td>Up</td>\n",
       "      <td>0.0</td>\n",
       "    </tr>\n",
       "    <tr>\n",
       "      <th>1</th>\n",
       "      <td>49</td>\n",
       "      <td>F</td>\n",
       "      <td>NAP</td>\n",
       "      <td>160</td>\n",
       "      <td>180.0</td>\n",
       "      <td>0.0</td>\n",
       "      <td>Normal</td>\n",
       "      <td>156.0</td>\n",
       "      <td>N</td>\n",
       "      <td>1.0</td>\n",
       "      <td>Flat</td>\n",
       "      <td>1.0</td>\n",
       "    </tr>\n",
       "    <tr>\n",
       "      <th>2</th>\n",
       "      <td>37</td>\n",
       "      <td>M</td>\n",
       "      <td>ATA</td>\n",
       "      <td>130</td>\n",
       "      <td>283.0</td>\n",
       "      <td>0.0</td>\n",
       "      <td>ST</td>\n",
       "      <td>98.0</td>\n",
       "      <td>N</td>\n",
       "      <td>0.0</td>\n",
       "      <td>Up</td>\n",
       "      <td>0.0</td>\n",
       "    </tr>\n",
       "    <tr>\n",
       "      <th>3</th>\n",
       "      <td>48</td>\n",
       "      <td>F</td>\n",
       "      <td>ASY</td>\n",
       "      <td>138</td>\n",
       "      <td>214.0</td>\n",
       "      <td>0.0</td>\n",
       "      <td>Normal</td>\n",
       "      <td>108.0</td>\n",
       "      <td>Y</td>\n",
       "      <td>1.5</td>\n",
       "      <td>Flat</td>\n",
       "      <td>1.0</td>\n",
       "    </tr>\n",
       "    <tr>\n",
       "      <th>4</th>\n",
       "      <td>54</td>\n",
       "      <td>M</td>\n",
       "      <td>NAP</td>\n",
       "      <td>150</td>\n",
       "      <td>195.0</td>\n",
       "      <td>0.0</td>\n",
       "      <td>Normal</td>\n",
       "      <td>122.0</td>\n",
       "      <td>N</td>\n",
       "      <td>0.0</td>\n",
       "      <td>Up</td>\n",
       "      <td>0.0</td>\n",
       "    </tr>\n",
       "  </tbody>\n",
       "</table>\n",
       "</div>"
      ],
      "text/plain": [
       "   Age Sex ChestPainType  RestingBP  Cholesterol  FastingBS RestingECG  MaxHR  \\\n",
       "0   40   M           ATA        140        289.0        0.0     Normal  172.0   \n",
       "1   49   F           NAP        160        180.0        0.0     Normal  156.0   \n",
       "2   37   M           ATA        130        283.0        0.0         ST   98.0   \n",
       "3   48   F           ASY        138        214.0        0.0     Normal  108.0   \n",
       "4   54   M           NAP        150        195.0        0.0     Normal  122.0   \n",
       "\n",
       "  ExerciseAngina  Oldpeak ST_Slope  HeartDisease  \n",
       "0              N      0.0       Up           0.0  \n",
       "1              N      1.0     Flat           1.0  \n",
       "2              N      0.0       Up           0.0  \n",
       "3              Y      1.5     Flat           1.0  \n",
       "4              N      0.0       Up           0.0  "
      ]
     },
     "execution_count": 179,
     "metadata": {},
     "output_type": "execute_result"
    }
   ],
   "source": [
    "dataset.head() #view first 5 rows of data"
   ]
  },
  {
   "cell_type": "code",
   "execution_count": 180,
   "id": "f2a36aab",
   "metadata": {},
   "outputs": [
    {
     "data": {
      "text/plain": [
       "(918, 12)"
      ]
     },
     "execution_count": 180,
     "metadata": {},
     "output_type": "execute_result"
    }
   ],
   "source": [
    "# see data row and column\n",
    "#https://pandas.pydata.org/docs/reference/api/pandas.DataFrame.shape.html\n",
    "dataset.shape"
   ]
  },
  {
   "cell_type": "code",
   "execution_count": 181,
   "id": "2cef2f9f",
   "metadata": {},
   "outputs": [
    {
     "data": {
      "text/plain": [
       "Age                 int64\n",
       "Sex                object\n",
       "ChestPainType      object\n",
       "RestingBP           int64\n",
       "Cholesterol       float64\n",
       "FastingBS         float64\n",
       "RestingECG         object\n",
       "MaxHR             float64\n",
       "ExerciseAngina     object\n",
       "Oldpeak           float64\n",
       "ST_Slope           object\n",
       "HeartDisease      float64\n",
       "dtype: object"
      ]
     },
     "execution_count": 181,
     "metadata": {},
     "output_type": "execute_result"
    }
   ],
   "source": [
    "# see data types of each column\n",
    "dataset.dtypes"
   ]
  },
  {
   "cell_type": "code",
   "execution_count": 182,
   "id": "f1676c44",
   "metadata": {},
   "outputs": [
    {
     "data": {
      "text/html": [
       "<div>\n",
       "<style scoped>\n",
       "    .dataframe tbody tr th:only-of-type {\n",
       "        vertical-align: middle;\n",
       "    }\n",
       "\n",
       "    .dataframe tbody tr th {\n",
       "        vertical-align: top;\n",
       "    }\n",
       "\n",
       "    .dataframe thead th {\n",
       "        text-align: right;\n",
       "    }\n",
       "</style>\n",
       "<table border=\"1\" class=\"dataframe\">\n",
       "  <thead>\n",
       "    <tr style=\"text-align: right;\">\n",
       "      <th></th>\n",
       "      <th>Age</th>\n",
       "      <th>RestingBP</th>\n",
       "      <th>Cholesterol</th>\n",
       "      <th>FastingBS</th>\n",
       "      <th>MaxHR</th>\n",
       "      <th>Oldpeak</th>\n",
       "      <th>HeartDisease</th>\n",
       "    </tr>\n",
       "  </thead>\n",
       "  <tbody>\n",
       "    <tr>\n",
       "      <th>count</th>\n",
       "      <td>918.000000</td>\n",
       "      <td>918.000000</td>\n",
       "      <td>916.000000</td>\n",
       "      <td>915.000000</td>\n",
       "      <td>917.000000</td>\n",
       "      <td>918.000000</td>\n",
       "      <td>903.000000</td>\n",
       "    </tr>\n",
       "    <tr>\n",
       "      <th>mean</th>\n",
       "      <td>53.510893</td>\n",
       "      <td>132.396514</td>\n",
       "      <td>198.852620</td>\n",
       "      <td>0.232787</td>\n",
       "      <td>136.767721</td>\n",
       "      <td>0.887364</td>\n",
       "      <td>0.555925</td>\n",
       "    </tr>\n",
       "    <tr>\n",
       "      <th>std</th>\n",
       "      <td>9.432617</td>\n",
       "      <td>18.514154</td>\n",
       "      <td>109.193372</td>\n",
       "      <td>0.422839</td>\n",
       "      <td>25.442922</td>\n",
       "      <td>1.066570</td>\n",
       "      <td>0.497138</td>\n",
       "    </tr>\n",
       "    <tr>\n",
       "      <th>min</th>\n",
       "      <td>28.000000</td>\n",
       "      <td>0.000000</td>\n",
       "      <td>0.000000</td>\n",
       "      <td>0.000000</td>\n",
       "      <td>60.000000</td>\n",
       "      <td>-2.600000</td>\n",
       "      <td>0.000000</td>\n",
       "    </tr>\n",
       "    <tr>\n",
       "      <th>25%</th>\n",
       "      <td>47.000000</td>\n",
       "      <td>120.000000</td>\n",
       "      <td>173.750000</td>\n",
       "      <td>0.000000</td>\n",
       "      <td>120.000000</td>\n",
       "      <td>0.000000</td>\n",
       "      <td>0.000000</td>\n",
       "    </tr>\n",
       "    <tr>\n",
       "      <th>50%</th>\n",
       "      <td>54.000000</td>\n",
       "      <td>130.000000</td>\n",
       "      <td>223.000000</td>\n",
       "      <td>0.000000</td>\n",
       "      <td>138.000000</td>\n",
       "      <td>0.600000</td>\n",
       "      <td>1.000000</td>\n",
       "    </tr>\n",
       "    <tr>\n",
       "      <th>75%</th>\n",
       "      <td>60.000000</td>\n",
       "      <td>140.000000</td>\n",
       "      <td>267.000000</td>\n",
       "      <td>0.000000</td>\n",
       "      <td>156.000000</td>\n",
       "      <td>1.500000</td>\n",
       "      <td>1.000000</td>\n",
       "    </tr>\n",
       "    <tr>\n",
       "      <th>max</th>\n",
       "      <td>77.000000</td>\n",
       "      <td>200.000000</td>\n",
       "      <td>603.000000</td>\n",
       "      <td>1.000000</td>\n",
       "      <td>202.000000</td>\n",
       "      <td>6.200000</td>\n",
       "      <td>1.000000</td>\n",
       "    </tr>\n",
       "  </tbody>\n",
       "</table>\n",
       "</div>"
      ],
      "text/plain": [
       "              Age   RestingBP  Cholesterol   FastingBS       MaxHR  \\\n",
       "count  918.000000  918.000000   916.000000  915.000000  917.000000   \n",
       "mean    53.510893  132.396514   198.852620    0.232787  136.767721   \n",
       "std      9.432617   18.514154   109.193372    0.422839   25.442922   \n",
       "min     28.000000    0.000000     0.000000    0.000000   60.000000   \n",
       "25%     47.000000  120.000000   173.750000    0.000000  120.000000   \n",
       "50%     54.000000  130.000000   223.000000    0.000000  138.000000   \n",
       "75%     60.000000  140.000000   267.000000    0.000000  156.000000   \n",
       "max     77.000000  200.000000   603.000000    1.000000  202.000000   \n",
       "\n",
       "          Oldpeak  HeartDisease  \n",
       "count  918.000000    903.000000  \n",
       "mean     0.887364      0.555925  \n",
       "std      1.066570      0.497138  \n",
       "min     -2.600000      0.000000  \n",
       "25%      0.000000      0.000000  \n",
       "50%      0.600000      1.000000  \n",
       "75%      1.500000      1.000000  \n",
       "max      6.200000      1.000000  "
      ]
     },
     "execution_count": 182,
     "metadata": {},
     "output_type": "execute_result"
    }
   ],
   "source": [
    "#statistical summary\n",
    "dataset.describe()"
   ]
  },
  {
   "cell_type": "code",
   "execution_count": 183,
   "id": "2ddd811a",
   "metadata": {},
   "outputs": [
    {
     "name": "stdout",
     "output_type": "stream",
     "text": [
      "<class 'pandas.core.frame.DataFrame'>\n",
      "RangeIndex: 918 entries, 0 to 917\n",
      "Data columns (total 12 columns):\n",
      " #   Column          Non-Null Count  Dtype  \n",
      "---  ------          --------------  -----  \n",
      " 0   Age             918 non-null    int64  \n",
      " 1   Sex             918 non-null    object \n",
      " 2   ChestPainType   918 non-null    object \n",
      " 3   RestingBP       918 non-null    int64  \n",
      " 4   Cholesterol     916 non-null    float64\n",
      " 5   FastingBS       915 non-null    float64\n",
      " 6   RestingECG      918 non-null    object \n",
      " 7   MaxHR           917 non-null    float64\n",
      " 8   ExerciseAngina  918 non-null    object \n",
      " 9   Oldpeak         918 non-null    float64\n",
      " 10  ST_Slope        918 non-null    object \n",
      " 11  HeartDisease    903 non-null    float64\n",
      "dtypes: float64(5), int64(2), object(5)\n",
      "memory usage: 86.2+ KB\n"
     ]
    }
   ],
   "source": [
    "# any null-values?\n",
    "dataset.info()"
   ]
  },
  {
   "cell_type": "code",
   "execution_count": 184,
   "id": "2262c8a9",
   "metadata": {},
   "outputs": [
    {
     "data": {
      "text/plain": [
       "(897, 12)"
      ]
     },
     "execution_count": 184,
     "metadata": {},
     "output_type": "execute_result"
    }
   ],
   "source": [
    "# drop null values row\n",
    "dataset.dropna(inplace=True)\n",
    "\n",
    "#not dropping any columns since all are related data\n",
    "# and show again the shape of dataset\n",
    "dataset.shape"
   ]
  },
  {
   "cell_type": "code",
   "execution_count": 185,
   "id": "49f38c89",
   "metadata": {},
   "outputs": [
    {
     "data": {
      "text/plain": [
       "array([40, 49, 37, 48, 54, 39, 45, 58, 42, 38, 43, 60, 36, 44, 53, 52, 51,\n",
       "       56, 41, 32, 65, 35, 59, 50, 47, 31, 46, 57, 55, 63, 66, 34, 33, 61,\n",
       "       29, 62, 28, 30, 74, 68, 72, 64, 69, 67, 73, 70, 77, 75, 76, 71],\n",
       "      dtype=int64)"
      ]
     },
     "execution_count": 185,
     "metadata": {},
     "output_type": "execute_result"
    }
   ],
   "source": [
    "# https://towardsdatascience.com/how-to-clean-your-data-in-python-8f178638b98d\n",
    "# begin with checking unique values in each columns to ensure values are correct and clean\n",
    "\n",
    "# Age: age of the patient [years]\n",
    "dataset['Age'].unique()"
   ]
  },
  {
   "cell_type": "code",
   "execution_count": 186,
   "id": "410c5885",
   "metadata": {},
   "outputs": [
    {
     "data": {
      "text/plain": [
       "array(['M', 'F'], dtype=object)"
      ]
     },
     "execution_count": 186,
     "metadata": {},
     "output_type": "execute_result"
    }
   ],
   "source": [
    "# Sex: sex of the patient [M: Male, F: Female]\n",
    "dataset['Sex'].unique()"
   ]
  },
  {
   "cell_type": "code",
   "execution_count": 187,
   "id": "ca05f8c9",
   "metadata": {},
   "outputs": [
    {
     "data": {
      "text/plain": [
       "array(['ATA', 'NAP', 'ASY', 'TA'], dtype=object)"
      ]
     },
     "execution_count": 187,
     "metadata": {},
     "output_type": "execute_result"
    }
   ],
   "source": [
    "# ChestPainType: chest pain type [TA: Typical Angina, ATA: Atypical Angina, NAP: Non-Anginal Pain, ASY: Asymptomatic]\n",
    "dataset['ChestPainType'].unique()"
   ]
  },
  {
   "cell_type": "code",
   "execution_count": 188,
   "id": "728ca4bb",
   "metadata": {},
   "outputs": [
    {
     "data": {
      "text/plain": [
       "array([140, 160, 130, 138, 150, 120, 110, 136, 115, 100, 124, 113, 125,\n",
       "       145, 112, 132, 118, 170, 142, 190, 135, 180, 108, 155, 128, 106,\n",
       "       200, 122,  98, 105, 133,  95,  80, 137, 185, 165, 126, 152, 116,\n",
       "         0, 144, 154, 134, 104, 139, 131, 141, 178, 146, 158, 123, 102,\n",
       "        96, 143, 172, 156, 114, 127, 101, 174,  94, 148, 117, 192, 129,\n",
       "       164], dtype=int64)"
      ]
     },
     "execution_count": 188,
     "metadata": {},
     "output_type": "execute_result"
    }
   ],
   "source": [
    "# RestingBP: resting blood pressure [mm Hg]\n",
    "dataset['RestingBP'].unique()"
   ]
  },
  {
   "cell_type": "code",
   "execution_count": 189,
   "id": "9a1dc59c",
   "metadata": {},
   "outputs": [
    {
     "data": {
      "text/plain": [
       "array([289., 180., 283., 214., 195., 339., 237., 208., 207., 284., 211.,\n",
       "       164., 204., 234., 273., 196., 201., 248., 267., 223., 184., 288.,\n",
       "       215., 209., 260., 468., 188., 518., 167., 224., 172., 186., 254.,\n",
       "       306., 250., 177., 227., 230., 294., 264., 259., 175., 318., 216.,\n",
       "       340., 233., 205., 245., 194., 270., 213., 365., 342., 253., 277.,\n",
       "       202., 297., 225., 246., 412., 265., 182., 218., 268., 163., 529.,\n",
       "       100., 206., 238., 139., 263., 291., 229., 307., 210., 329., 147.,\n",
       "        85., 269., 275., 179., 392., 466., 129., 241., 255., 276., 282.,\n",
       "       338., 160., 156., 272., 240., 393., 161., 228., 292., 388., 166.,\n",
       "       247., 331., 341., 243., 279., 198., 249., 168., 603., 159., 190.,\n",
       "       185., 290., 212., 231., 222., 235., 320., 266., 287., 404., 312.,\n",
       "       251., 328., 285., 280., 192., 193., 308., 219., 257., 132., 226.,\n",
       "       217., 303., 298., 256., 295., 173., 315., 281., 309., 200., 336.,\n",
       "       355., 326., 171., 491., 271., 274., 394., 221., 126., 305., 220.,\n",
       "       242., 347., 344., 358., 169., 181.,   0., 236., 203., 153., 316.,\n",
       "       311., 252., 458., 384., 258., 142., 197., 113., 261., 310., 232.,\n",
       "       110., 123., 170., 369., 152., 244., 165., 337., 300., 333., 385.,\n",
       "       322., 564., 239., 293., 407., 149., 199., 417., 178., 319., 354.,\n",
       "       330., 302., 313., 141., 327., 304., 286., 360., 262., 325., 299.,\n",
       "       409., 174., 183., 321., 353., 335., 278., 187., 157., 176.])"
      ]
     },
     "execution_count": 189,
     "metadata": {},
     "output_type": "execute_result"
    }
   ],
   "source": [
    "# Cholesterol: serum cholesterol [mm/dl]\n",
    "dataset['Cholesterol'].unique()"
   ]
  },
  {
   "cell_type": "code",
   "execution_count": 190,
   "id": "9e452f60",
   "metadata": {},
   "outputs": [
    {
     "data": {
      "text/plain": [
       "array([0., 1.])"
      ]
     },
     "execution_count": 190,
     "metadata": {},
     "output_type": "execute_result"
    }
   ],
   "source": [
    "# FastingBS: fasting blood sugar [1: if FastingBS > 120 mg/dl, 0: otherwise]\n",
    "dataset['FastingBS'].unique()"
   ]
  },
  {
   "cell_type": "code",
   "execution_count": 191,
   "id": "c7315694",
   "metadata": {},
   "outputs": [
    {
     "data": {
      "text/plain": [
       "array(['Normal', 'ST', 'LVH'], dtype=object)"
      ]
     },
     "execution_count": 191,
     "metadata": {},
     "output_type": "execute_result"
    }
   ],
   "source": [
    "# RestingECG: resting electrocardiogram results [Normal: Normal, ST: having ST-T wave abnormality (T wave inversions and/or ST elevation or depression of > 0.05 mV), LVH: showing probable or definite left ventricular hypertrophy by Estes' criteria]\n",
    "dataset['RestingECG'].unique()"
   ]
  },
  {
   "cell_type": "code",
   "execution_count": 192,
   "id": "63f46eed",
   "metadata": {},
   "outputs": [
    {
     "data": {
      "text/plain": [
       "array([172., 156.,  98., 108., 122., 170., 142., 130., 120.,  99., 145.,\n",
       "       140., 137., 150., 166., 165., 125., 160., 164., 138., 178., 112.,\n",
       "       118., 127., 114., 154., 155.,  87., 148., 100., 168., 184., 121.,\n",
       "       153., 134.,  96., 174., 175., 144.,  82., 135., 115., 128., 116.,\n",
       "        94., 110.,  92., 180., 152., 124., 106., 185., 139., 190., 146.,\n",
       "       158., 132., 176., 119., 188., 162., 105.,  90., 136., 167., 129.,\n",
       "       102., 143., 103.,  91., 126.,  93., 131., 149., 123., 182., 141.,\n",
       "        77., 109., 133., 179., 113., 104.,  95.,  97., 117.,  86.,  63.,\n",
       "       157.,  83.,  60.,  70., 163.,  67.,  72.,  78.,  84., 111.,  80.,\n",
       "       107., 161.,  69.,  88.,  73., 159., 151., 181., 186., 177., 173.,\n",
       "       169., 171., 147.,  71., 192., 195., 194., 187., 202.])"
      ]
     },
     "execution_count": 192,
     "metadata": {},
     "output_type": "execute_result"
    }
   ],
   "source": [
    "# MaxHR: maximum heart rate achieved [Numeric value between 60 and 202]\n",
    "dataset['MaxHR'].unique()"
   ]
  },
  {
   "cell_type": "code",
   "execution_count": 193,
   "id": "425bb322",
   "metadata": {},
   "outputs": [
    {
     "data": {
      "text/plain": [
       "array(['N', 'Y'], dtype=object)"
      ]
     },
     "execution_count": 193,
     "metadata": {},
     "output_type": "execute_result"
    }
   ],
   "source": [
    "# ExerciseAngina: exercise-induced angina [Y: Yes, N: No]\n",
    "dataset['ExerciseAngina'].unique()"
   ]
  },
  {
   "cell_type": "code",
   "execution_count": 194,
   "id": "250c969b",
   "metadata": {},
   "outputs": [
    {
     "data": {
      "text/plain": [
       "array([ 0. ,  1. ,  1.5,  2. ,  3. ,  4. ,  0.5,  2.5,  5. ,  0.8,  0.7,\n",
       "        1.4,  2.1,  0.4,  0.2,  1.7,  2.2,  0.1,  1.3,  0.3,  1.8,  2.6,\n",
       "       -0.9,  2.8, -2.6, -1.5, -0.1,  0.9,  1.1,  2.4, -1. , -1.1, -0.7,\n",
       "       -0.8,  1.6,  3.7,  1.2, -0.5, -2. ,  1.9,  3.5,  0.6,  3.1,  2.3,\n",
       "        3.4,  3.6,  4.2,  3.2,  5.6,  3.8,  2.9,  6.2,  4.4])"
      ]
     },
     "execution_count": 194,
     "metadata": {},
     "output_type": "execute_result"
    }
   ],
   "source": [
    "# Oldpeak: oldpeak = ST [Numeric value measured in depression]\n",
    "dataset['Oldpeak'].unique()"
   ]
  },
  {
   "cell_type": "code",
   "execution_count": 195,
   "id": "ac2da468",
   "metadata": {},
   "outputs": [
    {
     "data": {
      "text/plain": [
       "array(['Up', 'Flat', 'Down'], dtype=object)"
      ]
     },
     "execution_count": 195,
     "metadata": {},
     "output_type": "execute_result"
    }
   ],
   "source": [
    "# ST_Slope: the slope of the peak exercise ST segment [Up: upsloping, Flat: flat, Down: downsloping]\n",
    "dataset['ST_Slope'].unique()"
   ]
  },
  {
   "cell_type": "code",
   "execution_count": 196,
   "id": "05fbbb17",
   "metadata": {},
   "outputs": [
    {
     "data": {
      "text/plain": [
       "array([0., 1.])"
      ]
     },
     "execution_count": 196,
     "metadata": {},
     "output_type": "execute_result"
    }
   ],
   "source": [
    "# HeartDisease: output class [1: heart disease, 0: Normal]\n",
    "dataset['HeartDisease'].unique()"
   ]
  },
  {
   "cell_type": "code",
   "execution_count": 197,
   "id": "7c6c8faf",
   "metadata": {},
   "outputs": [
    {
     "name": "stdout",
     "output_type": "stream",
     "text": [
      "0      False\n",
      "1      False\n",
      "2      False\n",
      "3      False\n",
      "4      False\n",
      "       ...  \n",
      "912    False\n",
      "913    False\n",
      "914    False\n",
      "916    False\n",
      "917    False\n",
      "Length: 897, dtype: bool\n"
     ]
    }
   ],
   "source": [
    "# print duplicated rows https://www.w3schools.com/python/pandas/pandas_cleaning_duplicates.asp\n",
    "# it will returns True for every row that is a duplicate, othwerwise False\n",
    "print(dataset.duplicated())\n",
    "#no duplicated rows, no need to remove any rows"
   ]
  },
  {
   "cell_type": "markdown",
   "id": "7c00c7f9",
   "metadata": {},
   "source": [
    "# Correlations and Visualize"
   ]
  },
  {
   "cell_type": "code",
   "execution_count": 198,
   "id": "c64f28dd",
   "metadata": {},
   "outputs": [
    {
     "data": {
      "image/png": "[encoded data removed]",
      "text/plain": [
       "<Figure size 1200x900 with 2 Axes>"
      ]
     },
     "metadata": {},
     "output_type": "display_data"
    }
   ],
   "source": [
    "# https://www.linkedin.com/pulse/detailed-preprocessing-process-machine-learning-python-leonardo-a\n",
    "\n",
    "# one-hot encoding for all categorical columns https://www.geeksforgeeks.org/python-pandas-get_dummies-method/\n",
    "encoded_dataset = pd.get_dummies(dataset)\n",
    "\n",
    "# compute the correlation matrix\n",
    "correlations = encoded_dataset.corr()\n",
    "\n",
    "import matplotlib.pyplot as plt \n",
    "# plot matrix as a heatmap\n",
    "fig = plt.figure(figsize=(12, 9))\n",
    "ax = fig.add_subplot(111)\n",
    "cax = ax.matshow(correlations, vmin=-1, vmax=1)\n",
    "fig.colorbar(cax)\n",
    "\n",
    "# Set label\n",
    "plt.xticks(range(len(correlations.columns)), correlations.columns, rotation=90)\n",
    "plt.yticks(range(len(correlations.columns)), correlations.columns)\n",
    "\n",
    "plt.show()"
   ]
  },
  {
   "cell_type": "code",
   "execution_count": 199,
   "id": "455543fd",
   "metadata": {},
   "outputs": [
    {
     "data": {
      "image/png": "[encoded data removed]",
      "text/plain": [
       "<Figure size 640x480 with 2 Axes>"
      ]
     },
     "metadata": {},
     "output_type": "display_data"
    }
   ],
   "source": [
    "# without establishing label\n",
    "fig = plt.figure()\n",
    "ax = fig.add_subplot(111)\n",
    "cax = ax.matshow(correlations, vmin = -1, vmax = 1)\n",
    "fig.colorbar(cax)\n",
    "plt.show()"
   ]
  },
  {
   "cell_type": "markdown",
   "id": "bffda506",
   "metadata": {},
   "source": [
    "# Data Visualization with Histogram"
   ]
  },
  {
   "cell_type": "code",
   "execution_count": 200,
   "id": "f820801c",
   "metadata": {},
   "outputs": [],
   "source": [
    "# https://www.linkedin.com/pulse/detailed-preprocessing-process-machine-learning-python-leonardo-a\n",
    "# generate charts\n",
    "%matplotlib inline\n",
    "\n",
    "# this dataset contains both numerical and categorical features, a scatter plot may not be the most suitable visualization, histogram is the better way"
   ]
  },
  {
   "cell_type": "code",
   "execution_count": 201,
   "id": "4cbcf2ed",
   "metadata": {},
   "outputs": [
    {
     "data": {
      "image/png": "[encoded data removed]",
      "text/plain": [
       "<Figure size 640x480 with 9 Axes>"
      ]
     },
     "metadata": {},
     "output_type": "display_data"
    }
   ],
   "source": [
    "# show histogram of each column\n",
    "dataset.hist()\n",
    "plt.subplots_adjust(hspace=1.0) #dont let diagrams cross over\n",
    "plt.show()"
   ]
  },
  {
   "cell_type": "code",
   "execution_count": 202,
   "id": "64f4d0d7",
   "metadata": {},
   "outputs": [
    {
     "data": {
      "image/png": "[encoded data removed]",
      "text/plain": [
       "<Figure size 1500x500 with 5 Axes>"
      ]
     },
     "metadata": {},
     "output_type": "display_data"
    }
   ],
   "source": [
    "import seaborn as sns\n",
    "\n",
    "# choose the numerical columns\n",
    "numerical_columns = ['Age', 'RestingBP', 'Cholesterol', 'MaxHR', 'Oldpeak']\n",
    "fig, axes = plt.subplots(nrows=1, ncols=len(numerical_columns), figsize=(15, 5))\n",
    "for i, column in enumerate(numerical_columns):\n",
    "    sns.boxplot(x=column, data=dataset, ax=axes[i])\n",
    "\n",
    "# titles\n",
    "for i, column in enumerate(numerical_columns):\n",
    "    axes[i].set_title(f'Box Plot of {column}')\n",
    "\n",
    "plt.show()"
   ]
  },
  {
   "cell_type": "markdown",
   "id": "283bd838",
   "metadata": {},
   "source": [
    "# Feature Scaling"
   ]
  },
  {
   "cell_type": "code",
   "execution_count": 203,
   "id": "ee629746",
   "metadata": {},
   "outputs": [
    {
     "name": "stdout",
     "output_type": "stream",
     "text": [
      "        Age  RestingBP  Cholesterol  FastingBS     MaxHR   Oldpeak  \\\n",
      "0 -1.433892   0.408105     0.819937        0.0  1.391609 -0.828169   \n",
      "1 -0.483107   1.485576    -0.175478        0.0  0.759612  0.104965   \n",
      "2 -1.750820  -0.130630     0.765143        0.0 -1.531377 -0.828169   \n",
      "3 -0.588750   0.300358     0.135019        0.0 -1.136379  0.571531   \n",
      "4  0.045107   0.946841    -0.038494        0.0 -0.583382 -0.828169   \n",
      "\n",
      "   HeartDisease  Sex_F  Sex_M  ChestPainType_ASY  ...  ChestPainType_NAP  \\\n",
      "0           0.0  False   True              False  ...              False   \n",
      "1           1.0   True  False              False  ...               True   \n",
      "2           0.0  False   True              False  ...              False   \n",
      "3           1.0   True  False               True  ...              False   \n",
      "4           0.0  False   True              False  ...               True   \n",
      "\n",
      "   ChestPainType_TA  RestingECG_LVH  RestingECG_Normal  RestingECG_ST  \\\n",
      "0             False           False               True          False   \n",
      "1             False           False               True          False   \n",
      "2             False           False              False           True   \n",
      "3             False           False               True          False   \n",
      "4             False           False               True          False   \n",
      "\n",
      "   ExerciseAngina_N  ExerciseAngina_Y  ST_Slope_Down  ST_Slope_Flat  \\\n",
      "0              True             False          False          False   \n",
      "1              True             False          False           True   \n",
      "2              True             False          False          False   \n",
      "3             False              True          False           True   \n",
      "4              True             False          False          False   \n",
      "\n",
      "   ST_Slope_Up  \n",
      "0         True  \n",
      "1        False  \n",
      "2         True  \n",
      "3        False  \n",
      "4         True  \n",
      "\n",
      "[5 rows x 21 columns]\n"
     ]
    }
   ],
   "source": [
    "from sklearn.preprocessing import StandardScaler \n",
    "\n",
    "# https://scikit-learn.org/stable/modules/generated/sklearn.preprocessing.StandardScaler.html\n",
    "# columns that need scaling\n",
    "columns_to_scale = [\"Age\", \"RestingBP\", \"Cholesterol\", \"MaxHR\", \"Oldpeak\"]\n",
    "\n",
    "# implement standardization (Z-score normalization)\n",
    "scaler = StandardScaler()\n",
    "encoded_dataset[columns_to_scale] = scaler.fit_transform(encoded_dataset[columns_to_scale])\n",
    "\n",
    "# view the latest data values\n",
    "print(encoded_dataset.head())"
   ]
  },
  {
   "cell_type": "code",
   "execution_count": 204,
   "id": "5a00440b",
   "metadata": {},
   "outputs": [
    {
     "name": "stdout",
     "output_type": "stream",
     "text": [
      "        Age  RestingBP  Cholesterol  FastingBS     MaxHR   Oldpeak  \\\n",
      "0 -1.433892   0.408105     0.819937        0.0  1.391609 -0.828169   \n",
      "1 -0.483107   1.485576    -0.175478        0.0  0.759612  0.104965   \n",
      "2 -1.750820  -0.130630     0.765143        0.0 -1.531377 -0.828169   \n",
      "3 -0.588750   0.300358     0.135019        0.0 -1.136379  0.571531   \n",
      "4  0.045107   0.946841    -0.038494        0.0 -0.583382 -0.828169   \n",
      "\n",
      "   HeartDisease  Sex_F  Sex_M  ChestPainType_ASY  ...  RestingECG_ST  \\\n",
      "0           0.0  False   True              False  ...          False   \n",
      "1           1.0   True  False              False  ...          False   \n",
      "2           0.0  False   True              False  ...           True   \n",
      "3           1.0   True  False               True  ...          False   \n",
      "4           0.0  False   True              False  ...          False   \n",
      "\n",
      "   ExerciseAngina_N  ExerciseAngina_Y  ST_Slope_Down  ST_Slope_Flat  \\\n",
      "0              True             False          False          False   \n",
      "1              True             False          False           True   \n",
      "2              True             False          False          False   \n",
      "3             False              True          False           True   \n",
      "4              True             False          False          False   \n",
      "\n",
      "   ST_Slope_Up  Age_MaxHR_Interaction  Age_RestingBP_Interaction  \\\n",
      "0         True              -1.995417                  -0.585179   \n",
      "1        False              -0.366974                  -0.717692   \n",
      "2         True               2.681167                   0.228709   \n",
      "3        False               0.669043                  -0.176836   \n",
      "4         True              -0.026315                   0.042709   \n",
      "\n",
      "   Cholesterol_RestingBP_Interaction  Cholesterol_MaxHR_Interaction  \n",
      "0                           0.334621                       1.141031  \n",
      "1                          -0.260685                      -0.133295  \n",
      "2                          -0.099951                      -1.171723  \n",
      "3                           0.040554                      -0.153432  \n",
      "4                          -0.036448                       0.022457  \n",
      "\n",
      "[5 rows x 25 columns]\n"
     ]
    }
   ],
   "source": [
    "# interaction features: combined effect of the two factors might have an impact on heart disease risk https://www.geeksforgeeks.org/data-analysis-with-python/\n",
    "\n",
    "#patient's age and their maximum heart rate\n",
    "encoded_dataset[\"Age_MaxHR_Interaction\"] = encoded_dataset[\"Age\"] * encoded_dataset[\"MaxHR\"] \n",
    "\n",
    "# patient's age may impact the relationship between blood pressure and the likelihood of heart disease\n",
    "encoded_dataset[\"Age_RestingBP_Interaction\"] = encoded_dataset[\"Age\"] * encoded_dataset[\"RestingBP\"]\n",
    "\n",
    "# cholesterol and resting blood pressure\n",
    "encoded_dataset[\"Cholesterol_RestingBP_Interaction\"] = encoded_dataset[\"Cholesterol\"] * encoded_dataset[\"RestingBP\"]\n",
    "\n",
    "# cholesterol and maximum heart rate\n",
    "encoded_dataset[\"Cholesterol_MaxHR_Interaction\"] = encoded_dataset[\"Cholesterol\"] * encoded_dataset[\"MaxHR\"]\n",
    "\n",
    "# view the latest data values\n",
    "print(encoded_dataset.head())"
   ]
  },
  {
   "cell_type": "markdown",
   "id": "13bbdce9",
   "metadata": {},
   "source": [
    "# Data Split"
   ]
  },
  {
   "cell_type": "code",
   "execution_count": 205,
   "id": "a4f9b034",
   "metadata": {},
   "outputs": [],
   "source": [
    "# https://realpython.com/train-test-split-python-data/#prerequisites-for-using-train_test_split\n",
    "from sklearn.model_selection import train_test_split\n",
    "\n",
    "# get x and y data\n",
    "x = encoded_dataset.drop(\"HeartDisease\", axis=1)\n",
    "y = encoded_dataset[\"HeartDisease\"]\n",
    "\n",
    "# split data randomly with 70% train data, 30% test data\n",
    "x_train, x_test, y_train, y_test = train_test_split(x, y, test_size=0.30)"
   ]
  },
  {
   "cell_type": "code",
   "execution_count": 206,
   "id": "ddc7ee9a",
   "metadata": {},
   "outputs": [
    {
     "data": {
      "text/html": [
       "<div>\n",
       "<style scoped>\n",
       "    .dataframe tbody tr th:only-of-type {\n",
       "        vertical-align: middle;\n",
       "    }\n",
       "\n",
       "    .dataframe tbody tr th {\n",
       "        vertical-align: top;\n",
       "    }\n",
       "\n",
       "    .dataframe thead th {\n",
       "        text-align: right;\n",
       "    }\n",
       "</style>\n",
       "<table border=\"1\" class=\"dataframe\">\n",
       "  <thead>\n",
       "    <tr style=\"text-align: right;\">\n",
       "      <th></th>\n",
       "      <th>Age</th>\n",
       "      <th>RestingBP</th>\n",
       "      <th>Cholesterol</th>\n",
       "      <th>FastingBS</th>\n",
       "      <th>MaxHR</th>\n",
       "      <th>Oldpeak</th>\n",
       "      <th>Sex_F</th>\n",
       "      <th>Sex_M</th>\n",
       "      <th>ChestPainType_ASY</th>\n",
       "      <th>ChestPainType_ATA</th>\n",
       "      <th>...</th>\n",
       "      <th>RestingECG_ST</th>\n",
       "      <th>ExerciseAngina_N</th>\n",
       "      <th>ExerciseAngina_Y</th>\n",
       "      <th>ST_Slope_Down</th>\n",
       "      <th>ST_Slope_Flat</th>\n",
       "      <th>ST_Slope_Up</th>\n",
       "      <th>Age_MaxHR_Interaction</th>\n",
       "      <th>Age_RestingBP_Interaction</th>\n",
       "      <th>Cholesterol_RestingBP_Interaction</th>\n",
       "      <th>Cholesterol_MaxHR_Interaction</th>\n",
       "    </tr>\n",
       "  </thead>\n",
       "  <tbody>\n",
       "    <tr>\n",
       "      <th>127</th>\n",
       "      <td>-0.588750</td>\n",
       "      <td>-1.315847</td>\n",
       "      <td>-0.330726</td>\n",
       "      <td>0.0</td>\n",
       "      <td>1.510108</td>\n",
       "      <td>1.038098</td>\n",
       "      <td>True</td>\n",
       "      <td>False</td>\n",
       "      <td>True</td>\n",
       "      <td>False</td>\n",
       "      <td>...</td>\n",
       "      <td>False</td>\n",
       "      <td>True</td>\n",
       "      <td>False</td>\n",
       "      <td>False</td>\n",
       "      <td>False</td>\n",
       "      <td>True</td>\n",
       "      <td>-0.889076</td>\n",
       "      <td>0.774705</td>\n",
       "      <td>0.435184</td>\n",
       "      <td>-0.499432</td>\n",
       "    </tr>\n",
       "    <tr>\n",
       "      <th>256</th>\n",
       "      <td>0.150750</td>\n",
       "      <td>-0.130630</td>\n",
       "      <td>1.778822</td>\n",
       "      <td>0.0</td>\n",
       "      <td>0.522613</td>\n",
       "      <td>-0.828169</td>\n",
       "      <td>True</td>\n",
       "      <td>False</td>\n",
       "      <td>False</td>\n",
       "      <td>True</td>\n",
       "      <td>...</td>\n",
       "      <td>False</td>\n",
       "      <td>True</td>\n",
       "      <td>False</td>\n",
       "      <td>False</td>\n",
       "      <td>False</td>\n",
       "      <td>True</td>\n",
       "      <td>0.078784</td>\n",
       "      <td>-0.019692</td>\n",
       "      <td>-0.232367</td>\n",
       "      <td>0.929636</td>\n",
       "    </tr>\n",
       "    <tr>\n",
       "      <th>473</th>\n",
       "      <td>0.678964</td>\n",
       "      <td>0.461979</td>\n",
       "      <td>1.066507</td>\n",
       "      <td>1.0</td>\n",
       "      <td>-0.583382</td>\n",
       "      <td>0.758158</td>\n",
       "      <td>False</td>\n",
       "      <td>True</td>\n",
       "      <td>False</td>\n",
       "      <td>False</td>\n",
       "      <td>...</td>\n",
       "      <td>True</td>\n",
       "      <td>False</td>\n",
       "      <td>True</td>\n",
       "      <td>False</td>\n",
       "      <td>True</td>\n",
       "      <td>False</td>\n",
       "      <td>-0.396095</td>\n",
       "      <td>0.313667</td>\n",
       "      <td>0.492704</td>\n",
       "      <td>-0.622181</td>\n",
       "    </tr>\n",
       "    <tr>\n",
       "      <th>477</th>\n",
       "      <td>0.784607</td>\n",
       "      <td>-1.208100</td>\n",
       "      <td>-1.819281</td>\n",
       "      <td>1.0</td>\n",
       "      <td>-1.136379</td>\n",
       "      <td>1.038098</td>\n",
       "      <td>False</td>\n",
       "      <td>True</td>\n",
       "      <td>True</td>\n",
       "      <td>False</td>\n",
       "      <td>...</td>\n",
       "      <td>False</td>\n",
       "      <td>False</td>\n",
       "      <td>True</td>\n",
       "      <td>True</td>\n",
       "      <td>False</td>\n",
       "      <td>False</td>\n",
       "      <td>-0.891611</td>\n",
       "      <td>-0.947884</td>\n",
       "      <td>2.197874</td>\n",
       "      <td>2.067393</td>\n",
       "    </tr>\n",
       "    <tr>\n",
       "      <th>802</th>\n",
       "      <td>-0.166178</td>\n",
       "      <td>-1.315847</td>\n",
       "      <td>0.308531</td>\n",
       "      <td>1.0</td>\n",
       "      <td>0.404113</td>\n",
       "      <td>-0.734856</td>\n",
       "      <td>False</td>\n",
       "      <td>True</td>\n",
       "      <td>True</td>\n",
       "      <td>False</td>\n",
       "      <td>...</td>\n",
       "      <td>False</td>\n",
       "      <td>True</td>\n",
       "      <td>False</td>\n",
       "      <td>False</td>\n",
       "      <td>False</td>\n",
       "      <td>True</td>\n",
       "      <td>-0.067155</td>\n",
       "      <td>0.218665</td>\n",
       "      <td>-0.405980</td>\n",
       "      <td>0.124682</td>\n",
       "    </tr>\n",
       "    <tr>\n",
       "      <th>...</th>\n",
       "      <td>...</td>\n",
       "      <td>...</td>\n",
       "      <td>...</td>\n",
       "      <td>...</td>\n",
       "      <td>...</td>\n",
       "      <td>...</td>\n",
       "      <td>...</td>\n",
       "      <td>...</td>\n",
       "      <td>...</td>\n",
       "      <td>...</td>\n",
       "      <td>...</td>\n",
       "      <td>...</td>\n",
       "      <td>...</td>\n",
       "      <td>...</td>\n",
       "      <td>...</td>\n",
       "      <td>...</td>\n",
       "      <td>...</td>\n",
       "      <td>...</td>\n",
       "      <td>...</td>\n",
       "      <td>...</td>\n",
       "      <td>...</td>\n",
       "    </tr>\n",
       "    <tr>\n",
       "      <th>77</th>\n",
       "      <td>-1.962106</td>\n",
       "      <td>0.408105</td>\n",
       "      <td>-0.294197</td>\n",
       "      <td>0.0</td>\n",
       "      <td>0.522613</td>\n",
       "      <td>-0.828169</td>\n",
       "      <td>True</td>\n",
       "      <td>False</td>\n",
       "      <td>True</td>\n",
       "      <td>False</td>\n",
       "      <td>...</td>\n",
       "      <td>False</td>\n",
       "      <td>True</td>\n",
       "      <td>False</td>\n",
       "      <td>False</td>\n",
       "      <td>False</td>\n",
       "      <td>True</td>\n",
       "      <td>-1.025422</td>\n",
       "      <td>-0.800746</td>\n",
       "      <td>-0.120063</td>\n",
       "      <td>-0.153751</td>\n",
       "    </tr>\n",
       "    <tr>\n",
       "      <th>302</th>\n",
       "      <td>-0.060536</td>\n",
       "      <td>-0.399997</td>\n",
       "      <td>-1.819281</td>\n",
       "      <td>1.0</td>\n",
       "      <td>-0.662382</td>\n",
       "      <td>0.571531</td>\n",
       "      <td>False</td>\n",
       "      <td>True</td>\n",
       "      <td>True</td>\n",
       "      <td>False</td>\n",
       "      <td>...</td>\n",
       "      <td>False</td>\n",
       "      <td>True</td>\n",
       "      <td>False</td>\n",
       "      <td>False</td>\n",
       "      <td>False</td>\n",
       "      <td>True</td>\n",
       "      <td>0.040098</td>\n",
       "      <td>0.024214</td>\n",
       "      <td>0.727708</td>\n",
       "      <td>1.205058</td>\n",
       "    </tr>\n",
       "    <tr>\n",
       "      <th>314</th>\n",
       "      <td>-0.060536</td>\n",
       "      <td>-2.824306</td>\n",
       "      <td>-1.819281</td>\n",
       "      <td>0.0</td>\n",
       "      <td>0.167115</td>\n",
       "      <td>1.038098</td>\n",
       "      <td>False</td>\n",
       "      <td>True</td>\n",
       "      <td>True</td>\n",
       "      <td>False</td>\n",
       "      <td>...</td>\n",
       "      <td>False</td>\n",
       "      <td>False</td>\n",
       "      <td>True</td>\n",
       "      <td>True</td>\n",
       "      <td>False</td>\n",
       "      <td>False</td>\n",
       "      <td>-0.010116</td>\n",
       "      <td>0.170971</td>\n",
       "      <td>5.138207</td>\n",
       "      <td>-0.304028</td>\n",
       "    </tr>\n",
       "    <tr>\n",
       "      <th>794</th>\n",
       "      <td>-0.377464</td>\n",
       "      <td>-0.184503</td>\n",
       "      <td>-0.029362</td>\n",
       "      <td>0.0</td>\n",
       "      <td>1.036111</td>\n",
       "      <td>-0.828169</td>\n",
       "      <td>False</td>\n",
       "      <td>True</td>\n",
       "      <td>False</td>\n",
       "      <td>False</td>\n",
       "      <td>...</td>\n",
       "      <td>False</td>\n",
       "      <td>True</td>\n",
       "      <td>False</td>\n",
       "      <td>False</td>\n",
       "      <td>False</td>\n",
       "      <td>True</td>\n",
       "      <td>-0.391094</td>\n",
       "      <td>0.069643</td>\n",
       "      <td>0.005417</td>\n",
       "      <td>-0.030422</td>\n",
       "    </tr>\n",
       "    <tr>\n",
       "      <th>664</th>\n",
       "      <td>1.207178</td>\n",
       "      <td>0.946841</td>\n",
       "      <td>0.235473</td>\n",
       "      <td>0.0</td>\n",
       "      <td>-0.899380</td>\n",
       "      <td>0.104965</td>\n",
       "      <td>True</td>\n",
       "      <td>False</td>\n",
       "      <td>True</td>\n",
       "      <td>False</td>\n",
       "      <td>...</td>\n",
       "      <td>False</td>\n",
       "      <td>True</td>\n",
       "      <td>False</td>\n",
       "      <td>False</td>\n",
       "      <td>True</td>\n",
       "      <td>False</td>\n",
       "      <td>-1.085712</td>\n",
       "      <td>1.143005</td>\n",
       "      <td>0.222956</td>\n",
       "      <td>-0.211780</td>\n",
       "    </tr>\n",
       "  </tbody>\n",
       "</table>\n",
       "<p>627 rows × 24 columns</p>\n",
       "</div>"
      ],
      "text/plain": [
       "          Age  RestingBP  Cholesterol  FastingBS     MaxHR   Oldpeak  Sex_F  \\\n",
       "127 -0.588750  -1.315847    -0.330726        0.0  1.510108  1.038098   True   \n",
       "256  0.150750  -0.130630     1.778822        0.0  0.522613 -0.828169   True   \n",
       "473  0.678964   0.461979     1.066507        1.0 -0.583382  0.758158  False   \n",
       "477  0.784607  -1.208100    -1.819281        1.0 -1.136379  1.038098  False   \n",
       "802 -0.166178  -1.315847     0.308531        1.0  0.404113 -0.734856  False   \n",
       "..        ...        ...          ...        ...       ...       ...    ...   \n",
       "77  -1.962106   0.408105    -0.294197        0.0  0.522613 -0.828169   True   \n",
       "302 -0.060536  -0.399997    -1.819281        1.0 -0.662382  0.571531  False   \n",
       "314 -0.060536  -2.824306    -1.819281        0.0  0.167115  1.038098  False   \n",
       "794 -0.377464  -0.184503    -0.029362        0.0  1.036111 -0.828169  False   \n",
       "664  1.207178   0.946841     0.235473        0.0 -0.899380  0.104965   True   \n",
       "\n",
       "     Sex_M  ChestPainType_ASY  ChestPainType_ATA  ...  RestingECG_ST  \\\n",
       "127  False               True              False  ...          False   \n",
       "256  False              False               True  ...          False   \n",
       "473   True              False              False  ...           True   \n",
       "477   True               True              False  ...          False   \n",
       "802   True               True              False  ...          False   \n",
       "..     ...                ...                ...  ...            ...   \n",
       "77   False               True              False  ...          False   \n",
       "302   True               True              False  ...          False   \n",
       "314   True               True              False  ...          False   \n",
       "794   True              False              False  ...          False   \n",
       "664  False               True              False  ...          False   \n",
       "\n",
       "     ExerciseAngina_N  ExerciseAngina_Y  ST_Slope_Down  ST_Slope_Flat  \\\n",
       "127              True             False          False          False   \n",
       "256              True             False          False          False   \n",
       "473             False              True          False           True   \n",
       "477             False              True           True          False   \n",
       "802              True             False          False          False   \n",
       "..                ...               ...            ...            ...   \n",
       "77               True             False          False          False   \n",
       "302              True             False          False          False   \n",
       "314             False              True           True          False   \n",
       "794              True             False          False          False   \n",
       "664              True             False          False           True   \n",
       "\n",
       "     ST_Slope_Up  Age_MaxHR_Interaction  Age_RestingBP_Interaction  \\\n",
       "127         True              -0.889076                   0.774705   \n",
       "256         True               0.078784                  -0.019692   \n",
       "473        False              -0.396095                   0.313667   \n",
       "477        False              -0.891611                  -0.947884   \n",
       "802         True              -0.067155                   0.218665   \n",
       "..           ...                    ...                        ...   \n",
       "77          True              -1.025422                  -0.800746   \n",
       "302         True               0.040098                   0.024214   \n",
       "314        False              -0.010116                   0.170971   \n",
       "794         True              -0.391094                   0.069643   \n",
       "664        False              -1.085712                   1.143005   \n",
       "\n",
       "     Cholesterol_RestingBP_Interaction  Cholesterol_MaxHR_Interaction  \n",
       "127                           0.435184                      -0.499432  \n",
       "256                          -0.232367                       0.929636  \n",
       "473                           0.492704                      -0.622181  \n",
       "477                           2.197874                       2.067393  \n",
       "802                          -0.405980                       0.124682  \n",
       "..                                 ...                            ...  \n",
       "77                           -0.120063                      -0.153751  \n",
       "302                           0.727708                       1.205058  \n",
       "314                           5.138207                      -0.304028  \n",
       "794                           0.005417                      -0.030422  \n",
       "664                           0.222956                      -0.211780  \n",
       "\n",
       "[627 rows x 24 columns]"
      ]
     },
     "execution_count": 206,
     "metadata": {},
     "output_type": "execute_result"
    }
   ],
   "source": [
    "x_train"
   ]
  },
  {
   "cell_type": "code",
   "execution_count": 207,
   "id": "51600623",
   "metadata": {},
   "outputs": [
    {
     "data": {
      "text/html": [
       "<div>\n",
       "<style scoped>\n",
       "    .dataframe tbody tr th:only-of-type {\n",
       "        vertical-align: middle;\n",
       "    }\n",
       "\n",
       "    .dataframe tbody tr th {\n",
       "        vertical-align: top;\n",
       "    }\n",
       "\n",
       "    .dataframe thead th {\n",
       "        text-align: right;\n",
       "    }\n",
       "</style>\n",
       "<table border=\"1\" class=\"dataframe\">\n",
       "  <thead>\n",
       "    <tr style=\"text-align: right;\">\n",
       "      <th></th>\n",
       "      <th>Age</th>\n",
       "      <th>RestingBP</th>\n",
       "      <th>Cholesterol</th>\n",
       "      <th>FastingBS</th>\n",
       "      <th>MaxHR</th>\n",
       "      <th>Oldpeak</th>\n",
       "      <th>Sex_F</th>\n",
       "      <th>Sex_M</th>\n",
       "      <th>ChestPainType_ASY</th>\n",
       "      <th>ChestPainType_ATA</th>\n",
       "      <th>...</th>\n",
       "      <th>RestingECG_ST</th>\n",
       "      <th>ExerciseAngina_N</th>\n",
       "      <th>ExerciseAngina_Y</th>\n",
       "      <th>ST_Slope_Down</th>\n",
       "      <th>ST_Slope_Flat</th>\n",
       "      <th>ST_Slope_Up</th>\n",
       "      <th>Age_MaxHR_Interaction</th>\n",
       "      <th>Age_RestingBP_Interaction</th>\n",
       "      <th>Cholesterol_RestingBP_Interaction</th>\n",
       "      <th>Cholesterol_MaxHR_Interaction</th>\n",
       "    </tr>\n",
       "  </thead>\n",
       "  <tbody>\n",
       "    <tr>\n",
       "      <th>118</th>\n",
       "      <td>-1.962106</td>\n",
       "      <td>-0.669365</td>\n",
       "      <td>-0.358122</td>\n",
       "      <td>0.0</td>\n",
       "      <td>1.905106</td>\n",
       "      <td>-0.828169</td>\n",
       "      <td>True</td>\n",
       "      <td>False</td>\n",
       "      <td>False</td>\n",
       "      <td>False</td>\n",
       "      <td>...</td>\n",
       "      <td>True</td>\n",
       "      <td>True</td>\n",
       "      <td>False</td>\n",
       "      <td>False</td>\n",
       "      <td>False</td>\n",
       "      <td>True</td>\n",
       "      <td>-3.738021</td>\n",
       "      <td>1.313365</td>\n",
       "      <td>0.239715</td>\n",
       "      <td>-0.682261</td>\n",
       "    </tr>\n",
       "    <tr>\n",
       "      <th>641</th>\n",
       "      <td>-0.800035</td>\n",
       "      <td>0.300358</td>\n",
       "      <td>0.399854</td>\n",
       "      <td>0.0</td>\n",
       "      <td>0.601613</td>\n",
       "      <td>-0.828169</td>\n",
       "      <td>True</td>\n",
       "      <td>False</td>\n",
       "      <td>True</td>\n",
       "      <td>False</td>\n",
       "      <td>...</td>\n",
       "      <td>False</td>\n",
       "      <td>False</td>\n",
       "      <td>True</td>\n",
       "      <td>False</td>\n",
       "      <td>True</td>\n",
       "      <td>False</td>\n",
       "      <td>-0.481311</td>\n",
       "      <td>-0.240297</td>\n",
       "      <td>0.120099</td>\n",
       "      <td>0.240557</td>\n",
       "    </tr>\n",
       "    <tr>\n",
       "      <th>80</th>\n",
       "      <td>0.150750</td>\n",
       "      <td>-1.208100</td>\n",
       "      <td>0.710350</td>\n",
       "      <td>0.0</td>\n",
       "      <td>0.917611</td>\n",
       "      <td>-0.828169</td>\n",
       "      <td>False</td>\n",
       "      <td>True</td>\n",
       "      <td>False</td>\n",
       "      <td>False</td>\n",
       "      <td>...</td>\n",
       "      <td>False</td>\n",
       "      <td>True</td>\n",
       "      <td>False</td>\n",
       "      <td>False</td>\n",
       "      <td>False</td>\n",
       "      <td>True</td>\n",
       "      <td>0.138330</td>\n",
       "      <td>-0.182121</td>\n",
       "      <td>-0.858174</td>\n",
       "      <td>0.651825</td>\n",
       "    </tr>\n",
       "    <tr>\n",
       "      <th>344</th>\n",
       "      <td>-0.271821</td>\n",
       "      <td>-0.669365</td>\n",
       "      <td>-1.819281</td>\n",
       "      <td>1.0</td>\n",
       "      <td>-1.294379</td>\n",
       "      <td>-0.828169</td>\n",
       "      <td>False</td>\n",
       "      <td>True</td>\n",
       "      <td>True</td>\n",
       "      <td>False</td>\n",
       "      <td>...</td>\n",
       "      <td>False</td>\n",
       "      <td>True</td>\n",
       "      <td>False</td>\n",
       "      <td>False</td>\n",
       "      <td>True</td>\n",
       "      <td>False</td>\n",
       "      <td>0.351839</td>\n",
       "      <td>0.181948</td>\n",
       "      <td>1.217763</td>\n",
       "      <td>2.354838</td>\n",
       "    </tr>\n",
       "    <tr>\n",
       "      <th>455</th>\n",
       "      <td>0.573321</td>\n",
       "      <td>1.162335</td>\n",
       "      <td>-1.819281</td>\n",
       "      <td>0.0</td>\n",
       "      <td>-0.227884</td>\n",
       "      <td>0.571531</td>\n",
       "      <td>False</td>\n",
       "      <td>True</td>\n",
       "      <td>True</td>\n",
       "      <td>False</td>\n",
       "      <td>...</td>\n",
       "      <td>True</td>\n",
       "      <td>False</td>\n",
       "      <td>True</td>\n",
       "      <td>False</td>\n",
       "      <td>False</td>\n",
       "      <td>True</td>\n",
       "      <td>-0.130650</td>\n",
       "      <td>0.666391</td>\n",
       "      <td>-2.114614</td>\n",
       "      <td>0.414584</td>\n",
       "    </tr>\n",
       "    <tr>\n",
       "      <th>...</th>\n",
       "      <td>...</td>\n",
       "      <td>...</td>\n",
       "      <td>...</td>\n",
       "      <td>...</td>\n",
       "      <td>...</td>\n",
       "      <td>...</td>\n",
       "      <td>...</td>\n",
       "      <td>...</td>\n",
       "      <td>...</td>\n",
       "      <td>...</td>\n",
       "      <td>...</td>\n",
       "      <td>...</td>\n",
       "      <td>...</td>\n",
       "      <td>...</td>\n",
       "      <td>...</td>\n",
       "      <td>...</td>\n",
       "      <td>...</td>\n",
       "      <td>...</td>\n",
       "      <td>...</td>\n",
       "      <td>...</td>\n",
       "      <td>...</td>\n",
       "    </tr>\n",
       "    <tr>\n",
       "      <th>91</th>\n",
       "      <td>-1.539535</td>\n",
       "      <td>-0.130630</td>\n",
       "      <td>0.984317</td>\n",
       "      <td>0.0</td>\n",
       "      <td>0.127615</td>\n",
       "      <td>-0.828169</td>\n",
       "      <td>False</td>\n",
       "      <td>True</td>\n",
       "      <td>True</td>\n",
       "      <td>False</td>\n",
       "      <td>...</td>\n",
       "      <td>False</td>\n",
       "      <td>True</td>\n",
       "      <td>False</td>\n",
       "      <td>False</td>\n",
       "      <td>False</td>\n",
       "      <td>True</td>\n",
       "      <td>-0.196467</td>\n",
       "      <td>0.201109</td>\n",
       "      <td>-0.128581</td>\n",
       "      <td>0.125613</td>\n",
       "    </tr>\n",
       "    <tr>\n",
       "      <th>151</th>\n",
       "      <td>-0.588750</td>\n",
       "      <td>-1.746836</td>\n",
       "      <td>-0.367255</td>\n",
       "      <td>0.0</td>\n",
       "      <td>-1.452378</td>\n",
       "      <td>-0.828169</td>\n",
       "      <td>False</td>\n",
       "      <td>True</td>\n",
       "      <td>False</td>\n",
       "      <td>True</td>\n",
       "      <td>...</td>\n",
       "      <td>False</td>\n",
       "      <td>True</td>\n",
       "      <td>False</td>\n",
       "      <td>False</td>\n",
       "      <td>False</td>\n",
       "      <td>True</td>\n",
       "      <td>0.855087</td>\n",
       "      <td>1.028449</td>\n",
       "      <td>0.641533</td>\n",
       "      <td>0.533392</td>\n",
       "    </tr>\n",
       "    <tr>\n",
       "      <th>356</th>\n",
       "      <td>-0.800035</td>\n",
       "      <td>-0.938733</td>\n",
       "      <td>-1.819281</td>\n",
       "      <td>0.0</td>\n",
       "      <td>-0.938880</td>\n",
       "      <td>0.571531</td>\n",
       "      <td>False</td>\n",
       "      <td>True</td>\n",
       "      <td>True</td>\n",
       "      <td>False</td>\n",
       "      <td>...</td>\n",
       "      <td>False</td>\n",
       "      <td>False</td>\n",
       "      <td>True</td>\n",
       "      <td>False</td>\n",
       "      <td>True</td>\n",
       "      <td>False</td>\n",
       "      <td>0.751137</td>\n",
       "      <td>0.751019</td>\n",
       "      <td>1.707819</td>\n",
       "      <td>1.708087</td>\n",
       "    </tr>\n",
       "    <tr>\n",
       "      <th>452</th>\n",
       "      <td>0.678964</td>\n",
       "      <td>0.408105</td>\n",
       "      <td>0.746879</td>\n",
       "      <td>0.0</td>\n",
       "      <td>-0.741381</td>\n",
       "      <td>0.571531</td>\n",
       "      <td>False</td>\n",
       "      <td>True</td>\n",
       "      <td>True</td>\n",
       "      <td>False</td>\n",
       "      <td>...</td>\n",
       "      <td>True</td>\n",
       "      <td>False</td>\n",
       "      <td>True</td>\n",
       "      <td>False</td>\n",
       "      <td>True</td>\n",
       "      <td>False</td>\n",
       "      <td>-0.503371</td>\n",
       "      <td>0.277089</td>\n",
       "      <td>0.304805</td>\n",
       "      <td>-0.553722</td>\n",
       "    </tr>\n",
       "    <tr>\n",
       "      <th>83</th>\n",
       "      <td>-0.166178</td>\n",
       "      <td>1.485576</td>\n",
       "      <td>-0.029362</td>\n",
       "      <td>0.0</td>\n",
       "      <td>1.115110</td>\n",
       "      <td>-0.828169</td>\n",
       "      <td>False</td>\n",
       "      <td>True</td>\n",
       "      <td>False</td>\n",
       "      <td>True</td>\n",
       "      <td>...</td>\n",
       "      <td>False</td>\n",
       "      <td>True</td>\n",
       "      <td>False</td>\n",
       "      <td>False</td>\n",
       "      <td>False</td>\n",
       "      <td>True</td>\n",
       "      <td>-0.185307</td>\n",
       "      <td>-0.246871</td>\n",
       "      <td>-0.043619</td>\n",
       "      <td>-0.032741</td>\n",
       "    </tr>\n",
       "  </tbody>\n",
       "</table>\n",
       "<p>270 rows × 24 columns</p>\n",
       "</div>"
      ],
      "text/plain": [
       "          Age  RestingBP  Cholesterol  FastingBS     MaxHR   Oldpeak  Sex_F  \\\n",
       "118 -1.962106  -0.669365    -0.358122        0.0  1.905106 -0.828169   True   \n",
       "641 -0.800035   0.300358     0.399854        0.0  0.601613 -0.828169   True   \n",
       "80   0.150750  -1.208100     0.710350        0.0  0.917611 -0.828169  False   \n",
       "344 -0.271821  -0.669365    -1.819281        1.0 -1.294379 -0.828169  False   \n",
       "455  0.573321   1.162335    -1.819281        0.0 -0.227884  0.571531  False   \n",
       "..        ...        ...          ...        ...       ...       ...    ...   \n",
       "91  -1.539535  -0.130630     0.984317        0.0  0.127615 -0.828169  False   \n",
       "151 -0.588750  -1.746836    -0.367255        0.0 -1.452378 -0.828169  False   \n",
       "356 -0.800035  -0.938733    -1.819281        0.0 -0.938880  0.571531  False   \n",
       "452  0.678964   0.408105     0.746879        0.0 -0.741381  0.571531  False   \n",
       "83  -0.166178   1.485576    -0.029362        0.0  1.115110 -0.828169  False   \n",
       "\n",
       "     Sex_M  ChestPainType_ASY  ChestPainType_ATA  ...  RestingECG_ST  \\\n",
       "118  False              False              False  ...           True   \n",
       "641  False               True              False  ...          False   \n",
       "80    True              False              False  ...          False   \n",
       "344   True               True              False  ...          False   \n",
       "455   True               True              False  ...           True   \n",
       "..     ...                ...                ...  ...            ...   \n",
       "91    True               True              False  ...          False   \n",
       "151   True              False               True  ...          False   \n",
       "356   True               True              False  ...          False   \n",
       "452   True               True              False  ...           True   \n",
       "83    True              False               True  ...          False   \n",
       "\n",
       "     ExerciseAngina_N  ExerciseAngina_Y  ST_Slope_Down  ST_Slope_Flat  \\\n",
       "118              True             False          False          False   \n",
       "641             False              True          False           True   \n",
       "80               True             False          False          False   \n",
       "344              True             False          False           True   \n",
       "455             False              True          False          False   \n",
       "..                ...               ...            ...            ...   \n",
       "91               True             False          False          False   \n",
       "151              True             False          False          False   \n",
       "356             False              True          False           True   \n",
       "452             False              True          False           True   \n",
       "83               True             False          False          False   \n",
       "\n",
       "     ST_Slope_Up  Age_MaxHR_Interaction  Age_RestingBP_Interaction  \\\n",
       "118         True              -3.738021                   1.313365   \n",
       "641        False              -0.481311                  -0.240297   \n",
       "80          True               0.138330                  -0.182121   \n",
       "344        False               0.351839                   0.181948   \n",
       "455         True              -0.130650                   0.666391   \n",
       "..           ...                    ...                        ...   \n",
       "91          True              -0.196467                   0.201109   \n",
       "151         True               0.855087                   1.028449   \n",
       "356        False               0.751137                   0.751019   \n",
       "452        False              -0.503371                   0.277089   \n",
       "83          True              -0.185307                  -0.246871   \n",
       "\n",
       "     Cholesterol_RestingBP_Interaction  Cholesterol_MaxHR_Interaction  \n",
       "118                           0.239715                      -0.682261  \n",
       "641                           0.120099                       0.240557  \n",
       "80                           -0.858174                       0.651825  \n",
       "344                           1.217763                       2.354838  \n",
       "455                          -2.114614                       0.414584  \n",
       "..                                 ...                            ...  \n",
       "91                           -0.128581                       0.125613  \n",
       "151                           0.641533                       0.533392  \n",
       "356                           1.707819                       1.708087  \n",
       "452                           0.304805                      -0.553722  \n",
       "83                           -0.043619                      -0.032741  \n",
       "\n",
       "[270 rows x 24 columns]"
      ]
     },
     "execution_count": 207,
     "metadata": {},
     "output_type": "execute_result"
    }
   ],
   "source": [
    "x_test"
   ]
  },
  {
   "cell_type": "code",
   "execution_count": 208,
   "id": "fbda9ad4",
   "metadata": {},
   "outputs": [
    {
     "data": {
      "text/plain": [
       "127    0.0\n",
       "256    0.0\n",
       "473    1.0\n",
       "477    1.0\n",
       "802    0.0\n",
       "      ... \n",
       "77     0.0\n",
       "302    1.0\n",
       "314    0.0\n",
       "794    0.0\n",
       "664    1.0\n",
       "Name: HeartDisease, Length: 627, dtype: float64"
      ]
     },
     "execution_count": 208,
     "metadata": {},
     "output_type": "execute_result"
    }
   ],
   "source": [
    "y_train"
   ]
  },
  {
   "cell_type": "code",
   "execution_count": 209,
   "id": "2946fc80",
   "metadata": {},
   "outputs": [
    {
     "data": {
      "text/plain": [
       "118    0.0\n",
       "641    0.0\n",
       "80     0.0\n",
       "344    1.0\n",
       "455    0.0\n",
       "      ... \n",
       "91     0.0\n",
       "151    0.0\n",
       "356    1.0\n",
       "452    1.0\n",
       "83     0.0\n",
       "Name: HeartDisease, Length: 270, dtype: float64"
      ]
     },
     "execution_count": 209,
     "metadata": {},
     "output_type": "execute_result"
    }
   ],
   "source": [
    "y_test"
   ]
  },
  {
   "cell_type": "markdown",
   "id": "01492c55",
   "metadata": {},
   "source": [
    "# Model Training"
   ]
  },
  {
   "cell_type": "code",
   "execution_count": 210,
   "id": "8a6e6949",
   "metadata": {},
   "outputs": [
    {
     "data": {
      "text/html": [
       "<style>#sk-container-id-23 {color: black;}#sk-container-id-23 pre{padding: 0;}#sk-container-id-23 div.sk-toggleable {background-color: white;}#sk-container-id-23 label.sk-toggleable__label {cursor: pointer;display: block;width: 100%;margin-bottom: 0;padding: 0.3em;box-sizing: border-box;text-align: center;}#sk-container-id-23 label.sk-toggleable__label-arrow:before {content: \"▸\";float: left;margin-right: 0.25em;color: #696969;}#sk-container-id-23 label.sk-toggleable__label-arrow:hover:before {color: black;}#sk-container-id-23 div.sk-estimator:hover label.sk-toggleable__label-arrow:before {color: black;}#sk-container-id-23 div.sk-toggleable__content {max-height: 0;max-width: 0;overflow: hidden;text-align: left;background-color: #f0f8ff;}#sk-container-id-23 div.sk-toggleable__content pre {margin: 0.2em;color: black;border-radius: 0.25em;background-color: #f0f8ff;}#sk-container-id-23 input.sk-toggleable__control:checked~div.sk-toggleable__content {max-height: 200px;max-width: 100%;overflow: auto;}#sk-container-id-23 input.sk-toggleable__control:checked~label.sk-toggleable__label-arrow:before {content: \"▾\";}#sk-container-id-23 div.sk-estimator input.sk-toggleable__control:checked~label.sk-toggleable__label {background-color: #d4ebff;}#sk-container-id-23 div.sk-label input.sk-toggleable__control:checked~label.sk-toggleable__label {background-color: #d4ebff;}#sk-container-id-23 input.sk-hidden--visually {border: 0;clip: rect(1px 1px 1px 1px);clip: rect(1px, 1px, 1px, 1px);height: 1px;margin: -1px;overflow: hidden;padding: 0;position: absolute;width: 1px;}#sk-container-id-23 div.sk-estimator {font-family: monospace;background-color: #f0f8ff;border: 1px dotted black;border-radius: 0.25em;box-sizing: border-box;margin-bottom: 0.5em;}#sk-container-id-23 div.sk-estimator:hover {background-color: #d4ebff;}#sk-container-id-23 div.sk-parallel-item::after {content: \"\";width: 100%;border-bottom: 1px solid gray;flex-grow: 1;}#sk-container-id-23 div.sk-label:hover label.sk-toggleable__label {background-color: #d4ebff;}#sk-container-id-23 div.sk-serial::before {content: \"\";position: absolute;border-left: 1px solid gray;box-sizing: border-box;top: 0;bottom: 0;left: 50%;z-index: 0;}#sk-container-id-23 div.sk-serial {display: flex;flex-direction: column;align-items: center;background-color: white;padding-right: 0.2em;padding-left: 0.2em;position: relative;}#sk-container-id-23 div.sk-item {position: relative;z-index: 1;}#sk-container-id-23 div.sk-parallel {display: flex;align-items: stretch;justify-content: center;background-color: white;position: relative;}#sk-container-id-23 div.sk-item::before, #sk-container-id-23 div.sk-parallel-item::before {content: \"\";position: absolute;border-left: 1px solid gray;box-sizing: border-box;top: 0;bottom: 0;left: 50%;z-index: -1;}#sk-container-id-23 div.sk-parallel-item {display: flex;flex-direction: column;z-index: 1;position: relative;background-color: white;}#sk-container-id-23 div.sk-parallel-item:first-child::after {align-self: flex-end;width: 50%;}#sk-container-id-23 div.sk-parallel-item:last-child::after {align-self: flex-start;width: 50%;}#sk-container-id-23 div.sk-parallel-item:only-child::after {width: 0;}#sk-container-id-23 div.sk-dashed-wrapped {border: 1px dashed gray;margin: 0 0.4em 0.5em 0.4em;box-sizing: border-box;padding-bottom: 0.4em;background-color: white;}#sk-container-id-23 div.sk-label label {font-family: monospace;font-weight: bold;display: inline-block;line-height: 1.2em;}#sk-container-id-23 div.sk-label-container {text-align: center;}#sk-container-id-23 div.sk-container {/* jupyter's `normalize.less` sets `[hidden] { display: none; }` but bootstrap.min.css set `[hidden] { display: none !important; }` so we also need the `!important` here to be able to override the default hidden behavior on the sphinx rendered scikit-learn.org. See: https://github.com/scikit-learn/scikit-learn/issues/21755 */display: inline-block !important;position: relative;}#sk-container-id-23 div.sk-text-repr-fallback {display: none;}</style><div id=\"sk-container-id-23\" class=\"sk-top-container\"><div class=\"sk-text-repr-fallback\"><pre>LogisticRegression()</pre><b>In a Jupyter environment, please rerun this cell to show the HTML representation or trust the notebook. <br />On GitHub, the HTML representation is unable to render, please try loading this page with nbviewer.org.</b></div><div class=\"sk-container\" hidden><div class=\"sk-item\"><div class=\"sk-estimator sk-toggleable\"><input class=\"sk-toggleable__control sk-hidden--visually\" id=\"sk-estimator-id-23\" type=\"checkbox\" checked><label for=\"sk-estimator-id-23\" class=\"sk-toggleable__label sk-toggleable__label-arrow\">LogisticRegression</label><div class=\"sk-toggleable__content\"><pre>LogisticRegression()</pre></div></div></div></div></div>"
      ],
      "text/plain": [
       "LogisticRegression()"
      ]
     },
     "execution_count": 210,
     "metadata": {},
     "output_type": "execute_result"
    }
   ],
   "source": [
    "# https://towardsdatascience.com/logistic-regression-using-python-sklearn-numpy-mnist-handwriting-recognition-matplotlib-a6b31e2b166a\n",
    "\n",
    "# training model\n",
    "from sklearn.linear_model import LogisticRegression\n",
    "from sklearn.tree import DecisionTreeClassifier\n",
    "\n",
    "logistic_model = LogisticRegression()\n",
    "\n",
    "# fit the model to training data\n",
    "logistic_model.fit(x_train, y_train)"
   ]
  },
  {
   "cell_type": "code",
   "execution_count": 211,
   "id": "129fd23d",
   "metadata": {},
   "outputs": [
    {
     "data": {
      "text/html": [
       "<style>#sk-container-id-24 {color: black;}#sk-container-id-24 pre{padding: 0;}#sk-container-id-24 div.sk-toggleable {background-color: white;}#sk-container-id-24 label.sk-toggleable__label {cursor: pointer;display: block;width: 100%;margin-bottom: 0;padding: 0.3em;box-sizing: border-box;text-align: center;}#sk-container-id-24 label.sk-toggleable__label-arrow:before {content: \"▸\";float: left;margin-right: 0.25em;color: #696969;}#sk-container-id-24 label.sk-toggleable__label-arrow:hover:before {color: black;}#sk-container-id-24 div.sk-estimator:hover label.sk-toggleable__label-arrow:before {color: black;}#sk-container-id-24 div.sk-toggleable__content {max-height: 0;max-width: 0;overflow: hidden;text-align: left;background-color: #f0f8ff;}#sk-container-id-24 div.sk-toggleable__content pre {margin: 0.2em;color: black;border-radius: 0.25em;background-color: #f0f8ff;}#sk-container-id-24 input.sk-toggleable__control:checked~div.sk-toggleable__content {max-height: 200px;max-width: 100%;overflow: auto;}#sk-container-id-24 input.sk-toggleable__control:checked~label.sk-toggleable__label-arrow:before {content: \"▾\";}#sk-container-id-24 div.sk-estimator input.sk-toggleable__control:checked~label.sk-toggleable__label {background-color: #d4ebff;}#sk-container-id-24 div.sk-label input.sk-toggleable__control:checked~label.sk-toggleable__label {background-color: #d4ebff;}#sk-container-id-24 input.sk-hidden--visually {border: 0;clip: rect(1px 1px 1px 1px);clip: rect(1px, 1px, 1px, 1px);height: 1px;margin: -1px;overflow: hidden;padding: 0;position: absolute;width: 1px;}#sk-container-id-24 div.sk-estimator {font-family: monospace;background-color: #f0f8ff;border: 1px dotted black;border-radius: 0.25em;box-sizing: border-box;margin-bottom: 0.5em;}#sk-container-id-24 div.sk-estimator:hover {background-color: #d4ebff;}#sk-container-id-24 div.sk-parallel-item::after {content: \"\";width: 100%;border-bottom: 1px solid gray;flex-grow: 1;}#sk-container-id-24 div.sk-label:hover label.sk-toggleable__label {background-color: #d4ebff;}#sk-container-id-24 div.sk-serial::before {content: \"\";position: absolute;border-left: 1px solid gray;box-sizing: border-box;top: 0;bottom: 0;left: 50%;z-index: 0;}#sk-container-id-24 div.sk-serial {display: flex;flex-direction: column;align-items: center;background-color: white;padding-right: 0.2em;padding-left: 0.2em;position: relative;}#sk-container-id-24 div.sk-item {position: relative;z-index: 1;}#sk-container-id-24 div.sk-parallel {display: flex;align-items: stretch;justify-content: center;background-color: white;position: relative;}#sk-container-id-24 div.sk-item::before, #sk-container-id-24 div.sk-parallel-item::before {content: \"\";position: absolute;border-left: 1px solid gray;box-sizing: border-box;top: 0;bottom: 0;left: 50%;z-index: -1;}#sk-container-id-24 div.sk-parallel-item {display: flex;flex-direction: column;z-index: 1;position: relative;background-color: white;}#sk-container-id-24 div.sk-parallel-item:first-child::after {align-self: flex-end;width: 50%;}#sk-container-id-24 div.sk-parallel-item:last-child::after {align-self: flex-start;width: 50%;}#sk-container-id-24 div.sk-parallel-item:only-child::after {width: 0;}#sk-container-id-24 div.sk-dashed-wrapped {border: 1px dashed gray;margin: 0 0.4em 0.5em 0.4em;box-sizing: border-box;padding-bottom: 0.4em;background-color: white;}#sk-container-id-24 div.sk-label label {font-family: monospace;font-weight: bold;display: inline-block;line-height: 1.2em;}#sk-container-id-24 div.sk-label-container {text-align: center;}#sk-container-id-24 div.sk-container {/* jupyter's `normalize.less` sets `[hidden] { display: none; }` but bootstrap.min.css set `[hidden] { display: none !important; }` so we also need the `!important` here to be able to override the default hidden behavior on the sphinx rendered scikit-learn.org. See: https://github.com/scikit-learn/scikit-learn/issues/21755 */display: inline-block !important;position: relative;}#sk-container-id-24 div.sk-text-repr-fallback {display: none;}</style><div id=\"sk-container-id-24\" class=\"sk-top-container\"><div class=\"sk-text-repr-fallback\"><pre>DecisionTreeClassifier()</pre><b>In a Jupyter environment, please rerun this cell to show the HTML representation or trust the notebook. <br />On GitHub, the HTML representation is unable to render, please try loading this page with nbviewer.org.</b></div><div class=\"sk-container\" hidden><div class=\"sk-item\"><div class=\"sk-estimator sk-toggleable\"><input class=\"sk-toggleable__control sk-hidden--visually\" id=\"sk-estimator-id-24\" type=\"checkbox\" checked><label for=\"sk-estimator-id-24\" class=\"sk-toggleable__label sk-toggleable__label-arrow\">DecisionTreeClassifier</label><div class=\"sk-toggleable__content\"><pre>DecisionTreeClassifier()</pre></div></div></div></div></div>"
      ],
      "text/plain": [
       "DecisionTreeClassifier()"
      ]
     },
     "execution_count": 211,
     "metadata": {},
     "output_type": "execute_result"
    }
   ],
   "source": [
    "# similar to logistic\n",
    "decision_tree_model = DecisionTreeClassifier()\n",
    "decision_tree_model.fit(x_train, y_train)"
   ]
  },
  {
   "cell_type": "markdown",
   "id": "82d2705a",
   "metadata": {},
   "source": [
    "# Model Evaluation"
   ]
  },
  {
   "cell_type": "code",
   "execution_count": 212,
   "id": "217e464a",
   "metadata": {},
   "outputs": [
    {
     "name": "stdout",
     "output_type": "stream",
     "text": [
      "Test Accuracy of logistic model:  0.8740740740740741\n",
      "Test Accuracy of decision tree model:  0.7814814814814814\n"
     ]
    }
   ],
   "source": [
    "from sklearn.metrics import accuracy_score\n",
    "\n",
    "# logistic model accuracy\n",
    "y_pred_logistic_model = logistic_model.predict(x_test)\n",
    "logistic_model_accuracy = accuracy_score(y_test, y_pred_logistic_model)\n",
    "print(\"Test Accuracy of logistic model: \", logistic_model_accuracy)\n",
    "\n",
    "# decision tree accuracy\n",
    "decision_tree_model_y_pred = decision_tree_model.predict(x_test)\n",
    "decision_tree_model_accuracy = accuracy_score(y_test, decision_tree_model_y_pred)\n",
    "print(\"Test Accuracy of decision tree model: \", decision_tree_model_accuracy)"
   ]
  },
  {
   "cell_type": "code",
   "execution_count": 213,
   "id": "f5a3d0e7",
   "metadata": {},
   "outputs": [
    {
     "name": "stdout",
     "output_type": "stream",
     "text": [
      "Precision for logistic model:  0.8363636363636363\n",
      "Recall for logistic model:  0.9517241379310345\n",
      "F1-Score for logistic model:  0.8903225806451613\n",
      "\n",
      "Precision for decision tree model:  0.7905405405405406\n",
      "Recall for decision tree model:  0.8068965517241379\n",
      "F1-Score for decision tree model:  0.7986348122866894\n"
     ]
    }
   ],
   "source": [
    "# https://proclusacademy.com/blog/practical/precision-recall-f1-score-sklearn/\n",
    "from sklearn.metrics import precision_score, recall_score, f1_score\n",
    "\n",
    "# logistic regression model\n",
    "precision_logistic = precision_score(y_test, y_pred_logistic_model) #how many positive predictions made were actually correct\n",
    "recall_logistic = recall_score(y_test, y_pred_logistic_model) #how many actual positive instances were correctly predicted\n",
    "f1_logistic = f1_score(y_test, y_pred_logistic_model) #combine precision and recall into a balanced measure\n",
    "\n",
    "print(\"Precision for logistic model: \", precision_logistic)\n",
    "print(\"Recall for logistic model: \", recall_logistic)\n",
    "print(\"F1-Score for logistic model: \", f1_logistic)\n",
    "\n",
    "# decision tree model\n",
    "precision_decision_tree = precision_score(y_test, decision_tree_model_y_pred)\n",
    "recall_decision_tree = recall_score(y_test, decision_tree_model_y_pred)\n",
    "f1_decision_tree = f1_score(y_test, decision_tree_model_y_pred)\n",
    "\n",
    "print(\"\\nPrecision for decision tree model: \", precision_decision_tree)\n",
    "print(\"Recall for decision tree model: \", recall_decision_tree)\n",
    "print(\"F1-Score for decision tree model: \", f1_decision_tree)"
   ]
  },
  {
   "cell_type": "markdown",
   "id": "c12931f8",
   "metadata": {},
   "source": [
    "# Model Tuning"
   ]
  },
  {
   "cell_type": "code",
   "execution_count": 214,
   "id": "93fee6e4",
   "metadata": {},
   "outputs": [],
   "source": [
    "# try to remove the interacted columns\n",
    "\n",
    "# get x and y data\n",
    "columns_to_drop = [\"HeartDisease\", \"Age_MaxHR_Interaction\", \"Age_RestingBP_Interaction\", \"Cholesterol_RestingBP_Interaction\", \"Cholesterol_MaxHR_Interaction\"]\n",
    "x = encoded_dataset.drop(columns=columns_to_drop, axis=1)\n",
    "y = encoded_dataset[\"HeartDisease\"]\n",
    "\n",
    "# split data randomly with 70% train data, 30% test data\n",
    "x_train, x_test, y_train, y_test = train_test_split(x, y, test_size=0.30)"
   ]
  },
  {
   "cell_type": "code",
   "execution_count": 215,
   "id": "1c08fea8",
   "metadata": {},
   "outputs": [
    {
     "data": {
      "text/html": [
       "<div>\n",
       "<style scoped>\n",
       "    .dataframe tbody tr th:only-of-type {\n",
       "        vertical-align: middle;\n",
       "    }\n",
       "\n",
       "    .dataframe tbody tr th {\n",
       "        vertical-align: top;\n",
       "    }\n",
       "\n",
       "    .dataframe thead th {\n",
       "        text-align: right;\n",
       "    }\n",
       "</style>\n",
       "<table border=\"1\" class=\"dataframe\">\n",
       "  <thead>\n",
       "    <tr style=\"text-align: right;\">\n",
       "      <th></th>\n",
       "      <th>Age</th>\n",
       "      <th>RestingBP</th>\n",
       "      <th>Cholesterol</th>\n",
       "      <th>FastingBS</th>\n",
       "      <th>MaxHR</th>\n",
       "      <th>Oldpeak</th>\n",
       "      <th>Sex_F</th>\n",
       "      <th>Sex_M</th>\n",
       "      <th>ChestPainType_ASY</th>\n",
       "      <th>ChestPainType_ATA</th>\n",
       "      <th>ChestPainType_NAP</th>\n",
       "      <th>ChestPainType_TA</th>\n",
       "      <th>RestingECG_LVH</th>\n",
       "      <th>RestingECG_Normal</th>\n",
       "      <th>RestingECG_ST</th>\n",
       "      <th>ExerciseAngina_N</th>\n",
       "      <th>ExerciseAngina_Y</th>\n",
       "      <th>ST_Slope_Down</th>\n",
       "      <th>ST_Slope_Flat</th>\n",
       "      <th>ST_Slope_Up</th>\n",
       "    </tr>\n",
       "  </thead>\n",
       "  <tbody>\n",
       "    <tr>\n",
       "      <th>100</th>\n",
       "      <td>1.207178</td>\n",
       "      <td>-0.130630</td>\n",
       "      <td>0.692085</td>\n",
       "      <td>0.0</td>\n",
       "      <td>-0.859881</td>\n",
       "      <td>0.104965</td>\n",
       "      <td>False</td>\n",
       "      <td>True</td>\n",
       "      <td>True</td>\n",
       "      <td>False</td>\n",
       "      <td>False</td>\n",
       "      <td>False</td>\n",
       "      <td>False</td>\n",
       "      <td>False</td>\n",
       "      <td>True</td>\n",
       "      <td>False</td>\n",
       "      <td>True</td>\n",
       "      <td>False</td>\n",
       "      <td>True</td>\n",
       "      <td>False</td>\n",
       "    </tr>\n",
       "    <tr>\n",
       "      <th>826</th>\n",
       "      <td>-0.271821</td>\n",
       "      <td>-0.399997</td>\n",
       "      <td>0.418118</td>\n",
       "      <td>1.0</td>\n",
       "      <td>1.154610</td>\n",
       "      <td>1.411352</td>\n",
       "      <td>False</td>\n",
       "      <td>True</td>\n",
       "      <td>False</td>\n",
       "      <td>False</td>\n",
       "      <td>True</td>\n",
       "      <td>False</td>\n",
       "      <td>True</td>\n",
       "      <td>False</td>\n",
       "      <td>False</td>\n",
       "      <td>True</td>\n",
       "      <td>False</td>\n",
       "      <td>False</td>\n",
       "      <td>True</td>\n",
       "      <td>False</td>\n",
       "    </tr>\n",
       "    <tr>\n",
       "      <th>166</th>\n",
       "      <td>-0.377464</td>\n",
       "      <td>0.408105</td>\n",
       "      <td>0.290267</td>\n",
       "      <td>0.0</td>\n",
       "      <td>0.127615</td>\n",
       "      <td>3.837499</td>\n",
       "      <td>False</td>\n",
       "      <td>True</td>\n",
       "      <td>True</td>\n",
       "      <td>False</td>\n",
       "      <td>False</td>\n",
       "      <td>False</td>\n",
       "      <td>False</td>\n",
       "      <td>False</td>\n",
       "      <td>True</td>\n",
       "      <td>False</td>\n",
       "      <td>True</td>\n",
       "      <td>False</td>\n",
       "      <td>True</td>\n",
       "      <td>False</td>\n",
       "    </tr>\n",
       "    <tr>\n",
       "      <th>475</th>\n",
       "      <td>0.573321</td>\n",
       "      <td>2.455299</td>\n",
       "      <td>-1.819281</td>\n",
       "      <td>1.0</td>\n",
       "      <td>-0.662382</td>\n",
       "      <td>-0.828169</td>\n",
       "      <td>False</td>\n",
       "      <td>True</td>\n",
       "      <td>True</td>\n",
       "      <td>False</td>\n",
       "      <td>False</td>\n",
       "      <td>False</td>\n",
       "      <td>True</td>\n",
       "      <td>False</td>\n",
       "      <td>False</td>\n",
       "      <td>False</td>\n",
       "      <td>True</td>\n",
       "      <td>False</td>\n",
       "      <td>True</td>\n",
       "      <td>False</td>\n",
       "    </tr>\n",
       "    <tr>\n",
       "      <th>841</th>\n",
       "      <td>0.890250</td>\n",
       "      <td>-0.130630</td>\n",
       "      <td>0.582499</td>\n",
       "      <td>0.0</td>\n",
       "      <td>-1.570877</td>\n",
       "      <td>0.291591</td>\n",
       "      <td>True</td>\n",
       "      <td>False</td>\n",
       "      <td>False</td>\n",
       "      <td>False</td>\n",
       "      <td>True</td>\n",
       "      <td>False</td>\n",
       "      <td>False</td>\n",
       "      <td>True</td>\n",
       "      <td>False</td>\n",
       "      <td>True</td>\n",
       "      <td>False</td>\n",
       "      <td>False</td>\n",
       "      <td>True</td>\n",
       "      <td>False</td>\n",
       "    </tr>\n",
       "    <tr>\n",
       "      <th>...</th>\n",
       "      <td>...</td>\n",
       "      <td>...</td>\n",
       "      <td>...</td>\n",
       "      <td>...</td>\n",
       "      <td>...</td>\n",
       "      <td>...</td>\n",
       "      <td>...</td>\n",
       "      <td>...</td>\n",
       "      <td>...</td>\n",
       "      <td>...</td>\n",
       "      <td>...</td>\n",
       "      <td>...</td>\n",
       "      <td>...</td>\n",
       "      <td>...</td>\n",
       "      <td>...</td>\n",
       "      <td>...</td>\n",
       "      <td>...</td>\n",
       "      <td>...</td>\n",
       "      <td>...</td>\n",
       "      <td>...</td>\n",
       "    </tr>\n",
       "    <tr>\n",
       "      <th>14</th>\n",
       "      <td>-1.222606</td>\n",
       "      <td>-0.938733</td>\n",
       "      <td>0.107622</td>\n",
       "      <td>0.0</td>\n",
       "      <td>0.009115</td>\n",
       "      <td>-0.828169</td>\n",
       "      <td>True</td>\n",
       "      <td>False</td>\n",
       "      <td>False</td>\n",
       "      <td>False</td>\n",
       "      <td>True</td>\n",
       "      <td>False</td>\n",
       "      <td>False</td>\n",
       "      <td>False</td>\n",
       "      <td>True</td>\n",
       "      <td>True</td>\n",
       "      <td>False</td>\n",
       "      <td>False</td>\n",
       "      <td>False</td>\n",
       "      <td>True</td>\n",
       "    </tr>\n",
       "    <tr>\n",
       "      <th>663</th>\n",
       "      <td>1.312821</td>\n",
       "      <td>1.485576</td>\n",
       "      <td>0.427250</td>\n",
       "      <td>0.0</td>\n",
       "      <td>-0.662382</td>\n",
       "      <td>-0.828169</td>\n",
       "      <td>False</td>\n",
       "      <td>True</td>\n",
       "      <td>False</td>\n",
       "      <td>True</td>\n",
       "      <td>False</td>\n",
       "      <td>False</td>\n",
       "      <td>False</td>\n",
       "      <td>True</td>\n",
       "      <td>False</td>\n",
       "      <td>False</td>\n",
       "      <td>True</td>\n",
       "      <td>False</td>\n",
       "      <td>True</td>\n",
       "      <td>False</td>\n",
       "    </tr>\n",
       "    <tr>\n",
       "      <th>375</th>\n",
       "      <td>2.052320</td>\n",
       "      <td>1.485576</td>\n",
       "      <td>-1.819281</td>\n",
       "      <td>0.0</td>\n",
       "      <td>-0.622882</td>\n",
       "      <td>-0.828169</td>\n",
       "      <td>True</td>\n",
       "      <td>False</td>\n",
       "      <td>False</td>\n",
       "      <td>False</td>\n",
       "      <td>True</td>\n",
       "      <td>False</td>\n",
       "      <td>False</td>\n",
       "      <td>False</td>\n",
       "      <td>True</td>\n",
       "      <td>True</td>\n",
       "      <td>False</td>\n",
       "      <td>False</td>\n",
       "      <td>False</td>\n",
       "      <td>True</td>\n",
       "    </tr>\n",
       "    <tr>\n",
       "      <th>580</th>\n",
       "      <td>-0.271821</td>\n",
       "      <td>-0.076756</td>\n",
       "      <td>-0.431180</td>\n",
       "      <td>1.0</td>\n",
       "      <td>-0.267383</td>\n",
       "      <td>0.104965</td>\n",
       "      <td>False</td>\n",
       "      <td>True</td>\n",
       "      <td>True</td>\n",
       "      <td>False</td>\n",
       "      <td>False</td>\n",
       "      <td>False</td>\n",
       "      <td>True</td>\n",
       "      <td>False</td>\n",
       "      <td>False</td>\n",
       "      <td>False</td>\n",
       "      <td>True</td>\n",
       "      <td>False</td>\n",
       "      <td>True</td>\n",
       "      <td>False</td>\n",
       "    </tr>\n",
       "    <tr>\n",
       "      <th>579</th>\n",
       "      <td>1.629749</td>\n",
       "      <td>0.677473</td>\n",
       "      <td>0.819937</td>\n",
       "      <td>1.0</td>\n",
       "      <td>-1.057380</td>\n",
       "      <td>0.851471</td>\n",
       "      <td>False</td>\n",
       "      <td>True</td>\n",
       "      <td>True</td>\n",
       "      <td>False</td>\n",
       "      <td>False</td>\n",
       "      <td>False</td>\n",
       "      <td>False</td>\n",
       "      <td>False</td>\n",
       "      <td>True</td>\n",
       "      <td>False</td>\n",
       "      <td>True</td>\n",
       "      <td>False</td>\n",
       "      <td>True</td>\n",
       "      <td>False</td>\n",
       "    </tr>\n",
       "  </tbody>\n",
       "</table>\n",
       "<p>627 rows × 20 columns</p>\n",
       "</div>"
      ],
      "text/plain": [
       "          Age  RestingBP  Cholesterol  FastingBS     MaxHR   Oldpeak  Sex_F  \\\n",
       "100  1.207178  -0.130630     0.692085        0.0 -0.859881  0.104965  False   \n",
       "826 -0.271821  -0.399997     0.418118        1.0  1.154610  1.411352  False   \n",
       "166 -0.377464   0.408105     0.290267        0.0  0.127615  3.837499  False   \n",
       "475  0.573321   2.455299    -1.819281        1.0 -0.662382 -0.828169  False   \n",
       "841  0.890250  -0.130630     0.582499        0.0 -1.570877  0.291591   True   \n",
       "..        ...        ...          ...        ...       ...       ...    ...   \n",
       "14  -1.222606  -0.938733     0.107622        0.0  0.009115 -0.828169   True   \n",
       "663  1.312821   1.485576     0.427250        0.0 -0.662382 -0.828169  False   \n",
       "375  2.052320   1.485576    -1.819281        0.0 -0.622882 -0.828169   True   \n",
       "580 -0.271821  -0.076756    -0.431180        1.0 -0.267383  0.104965  False   \n",
       "579  1.629749   0.677473     0.819937        1.0 -1.057380  0.851471  False   \n",
       "\n",
       "     Sex_M  ChestPainType_ASY  ChestPainType_ATA  ChestPainType_NAP  \\\n",
       "100   True               True              False              False   \n",
       "826   True              False              False               True   \n",
       "166   True               True              False              False   \n",
       "475   True               True              False              False   \n",
       "841  False              False              False               True   \n",
       "..     ...                ...                ...                ...   \n",
       "14   False              False              False               True   \n",
       "663   True              False               True              False   \n",
       "375  False              False              False               True   \n",
       "580   True               True              False              False   \n",
       "579   True               True              False              False   \n",
       "\n",
       "     ChestPainType_TA  RestingECG_LVH  RestingECG_Normal  RestingECG_ST  \\\n",
       "100             False           False              False           True   \n",
       "826             False            True              False          False   \n",
       "166             False           False              False           True   \n",
       "475             False            True              False          False   \n",
       "841             False           False               True          False   \n",
       "..                ...             ...                ...            ...   \n",
       "14              False           False              False           True   \n",
       "663             False           False               True          False   \n",
       "375             False           False              False           True   \n",
       "580             False            True              False          False   \n",
       "579             False           False              False           True   \n",
       "\n",
       "     ExerciseAngina_N  ExerciseAngina_Y  ST_Slope_Down  ST_Slope_Flat  \\\n",
       "100             False              True          False           True   \n",
       "826              True             False          False           True   \n",
       "166             False              True          False           True   \n",
       "475             False              True          False           True   \n",
       "841              True             False          False           True   \n",
       "..                ...               ...            ...            ...   \n",
       "14               True             False          False          False   \n",
       "663             False              True          False           True   \n",
       "375              True             False          False          False   \n",
       "580             False              True          False           True   \n",
       "579             False              True          False           True   \n",
       "\n",
       "     ST_Slope_Up  \n",
       "100        False  \n",
       "826        False  \n",
       "166        False  \n",
       "475        False  \n",
       "841        False  \n",
       "..           ...  \n",
       "14          True  \n",
       "663        False  \n",
       "375         True  \n",
       "580        False  \n",
       "579        False  \n",
       "\n",
       "[627 rows x 20 columns]"
      ]
     },
     "execution_count": 215,
     "metadata": {},
     "output_type": "execute_result"
    }
   ],
   "source": [
    "x_train #check current columns"
   ]
  },
  {
   "cell_type": "code",
   "execution_count": 216,
   "id": "02f3cd6c",
   "metadata": {},
   "outputs": [
    {
     "data": {
      "text/html": [
       "<style>#sk-container-id-25 {color: black;}#sk-container-id-25 pre{padding: 0;}#sk-container-id-25 div.sk-toggleable {background-color: white;}#sk-container-id-25 label.sk-toggleable__label {cursor: pointer;display: block;width: 100%;margin-bottom: 0;padding: 0.3em;box-sizing: border-box;text-align: center;}#sk-container-id-25 label.sk-toggleable__label-arrow:before {content: \"▸\";float: left;margin-right: 0.25em;color: #696969;}#sk-container-id-25 label.sk-toggleable__label-arrow:hover:before {color: black;}#sk-container-id-25 div.sk-estimator:hover label.sk-toggleable__label-arrow:before {color: black;}#sk-container-id-25 div.sk-toggleable__content {max-height: 0;max-width: 0;overflow: hidden;text-align: left;background-color: #f0f8ff;}#sk-container-id-25 div.sk-toggleable__content pre {margin: 0.2em;color: black;border-radius: 0.25em;background-color: #f0f8ff;}#sk-container-id-25 input.sk-toggleable__control:checked~div.sk-toggleable__content {max-height: 200px;max-width: 100%;overflow: auto;}#sk-container-id-25 input.sk-toggleable__control:checked~label.sk-toggleable__label-arrow:before {content: \"▾\";}#sk-container-id-25 div.sk-estimator input.sk-toggleable__control:checked~label.sk-toggleable__label {background-color: #d4ebff;}#sk-container-id-25 div.sk-label input.sk-toggleable__control:checked~label.sk-toggleable__label {background-color: #d4ebff;}#sk-container-id-25 input.sk-hidden--visually {border: 0;clip: rect(1px 1px 1px 1px);clip: rect(1px, 1px, 1px, 1px);height: 1px;margin: -1px;overflow: hidden;padding: 0;position: absolute;width: 1px;}#sk-container-id-25 div.sk-estimator {font-family: monospace;background-color: #f0f8ff;border: 1px dotted black;border-radius: 0.25em;box-sizing: border-box;margin-bottom: 0.5em;}#sk-container-id-25 div.sk-estimator:hover {background-color: #d4ebff;}#sk-container-id-25 div.sk-parallel-item::after {content: \"\";width: 100%;border-bottom: 1px solid gray;flex-grow: 1;}#sk-container-id-25 div.sk-label:hover label.sk-toggleable__label {background-color: #d4ebff;}#sk-container-id-25 div.sk-serial::before {content: \"\";position: absolute;border-left: 1px solid gray;box-sizing: border-box;top: 0;bottom: 0;left: 50%;z-index: 0;}#sk-container-id-25 div.sk-serial {display: flex;flex-direction: column;align-items: center;background-color: white;padding-right: 0.2em;padding-left: 0.2em;position: relative;}#sk-container-id-25 div.sk-item {position: relative;z-index: 1;}#sk-container-id-25 div.sk-parallel {display: flex;align-items: stretch;justify-content: center;background-color: white;position: relative;}#sk-container-id-25 div.sk-item::before, #sk-container-id-25 div.sk-parallel-item::before {content: \"\";position: absolute;border-left: 1px solid gray;box-sizing: border-box;top: 0;bottom: 0;left: 50%;z-index: -1;}#sk-container-id-25 div.sk-parallel-item {display: flex;flex-direction: column;z-index: 1;position: relative;background-color: white;}#sk-container-id-25 div.sk-parallel-item:first-child::after {align-self: flex-end;width: 50%;}#sk-container-id-25 div.sk-parallel-item:last-child::after {align-self: flex-start;width: 50%;}#sk-container-id-25 div.sk-parallel-item:only-child::after {width: 0;}#sk-container-id-25 div.sk-dashed-wrapped {border: 1px dashed gray;margin: 0 0.4em 0.5em 0.4em;box-sizing: border-box;padding-bottom: 0.4em;background-color: white;}#sk-container-id-25 div.sk-label label {font-family: monospace;font-weight: bold;display: inline-block;line-height: 1.2em;}#sk-container-id-25 div.sk-label-container {text-align: center;}#sk-container-id-25 div.sk-container {/* jupyter's `normalize.less` sets `[hidden] { display: none; }` but bootstrap.min.css set `[hidden] { display: none !important; }` so we also need the `!important` here to be able to override the default hidden behavior on the sphinx rendered scikit-learn.org. See: https://github.com/scikit-learn/scikit-learn/issues/21755 */display: inline-block !important;position: relative;}#sk-container-id-25 div.sk-text-repr-fallback {display: none;}</style><div id=\"sk-container-id-25\" class=\"sk-top-container\"><div class=\"sk-text-repr-fallback\"><pre>LogisticRegression()</pre><b>In a Jupyter environment, please rerun this cell to show the HTML representation or trust the notebook. <br />On GitHub, the HTML representation is unable to render, please try loading this page with nbviewer.org.</b></div><div class=\"sk-container\" hidden><div class=\"sk-item\"><div class=\"sk-estimator sk-toggleable\"><input class=\"sk-toggleable__control sk-hidden--visually\" id=\"sk-estimator-id-25\" type=\"checkbox\" checked><label for=\"sk-estimator-id-25\" class=\"sk-toggleable__label sk-toggleable__label-arrow\">LogisticRegression</label><div class=\"sk-toggleable__content\"><pre>LogisticRegression()</pre></div></div></div></div></div>"
      ],
      "text/plain": [
       "LogisticRegression()"
      ]
     },
     "execution_count": 216,
     "metadata": {},
     "output_type": "execute_result"
    }
   ],
   "source": [
    "# train model again\n",
    "\n",
    "logistic_model = LogisticRegression()\n",
    "logistic_model.fit(x_train, y_train)"
   ]
  },
  {
   "cell_type": "code",
   "execution_count": 217,
   "id": "ec8eb7e6",
   "metadata": {},
   "outputs": [
    {
     "data": {
      "text/html": [
       "<style>#sk-container-id-26 {color: black;}#sk-container-id-26 pre{padding: 0;}#sk-container-id-26 div.sk-toggleable {background-color: white;}#sk-container-id-26 label.sk-toggleable__label {cursor: pointer;display: block;width: 100%;margin-bottom: 0;padding: 0.3em;box-sizing: border-box;text-align: center;}#sk-container-id-26 label.sk-toggleable__label-arrow:before {content: \"▸\";float: left;margin-right: 0.25em;color: #696969;}#sk-container-id-26 label.sk-toggleable__label-arrow:hover:before {color: black;}#sk-container-id-26 div.sk-estimator:hover label.sk-toggleable__label-arrow:before {color: black;}#sk-container-id-26 div.sk-toggleable__content {max-height: 0;max-width: 0;overflow: hidden;text-align: left;background-color: #f0f8ff;}#sk-container-id-26 div.sk-toggleable__content pre {margin: 0.2em;color: black;border-radius: 0.25em;background-color: #f0f8ff;}#sk-container-id-26 input.sk-toggleable__control:checked~div.sk-toggleable__content {max-height: 200px;max-width: 100%;overflow: auto;}#sk-container-id-26 input.sk-toggleable__control:checked~label.sk-toggleable__label-arrow:before {content: \"▾\";}#sk-container-id-26 div.sk-estimator input.sk-toggleable__control:checked~label.sk-toggleable__label {background-color: #d4ebff;}#sk-container-id-26 div.sk-label input.sk-toggleable__control:checked~label.sk-toggleable__label {background-color: #d4ebff;}#sk-container-id-26 input.sk-hidden--visually {border: 0;clip: rect(1px 1px 1px 1px);clip: rect(1px, 1px, 1px, 1px);height: 1px;margin: -1px;overflow: hidden;padding: 0;position: absolute;width: 1px;}#sk-container-id-26 div.sk-estimator {font-family: monospace;background-color: #f0f8ff;border: 1px dotted black;border-radius: 0.25em;box-sizing: border-box;margin-bottom: 0.5em;}#sk-container-id-26 div.sk-estimator:hover {background-color: #d4ebff;}#sk-container-id-26 div.sk-parallel-item::after {content: \"\";width: 100%;border-bottom: 1px solid gray;flex-grow: 1;}#sk-container-id-26 div.sk-label:hover label.sk-toggleable__label {background-color: #d4ebff;}#sk-container-id-26 div.sk-serial::before {content: \"\";position: absolute;border-left: 1px solid gray;box-sizing: border-box;top: 0;bottom: 0;left: 50%;z-index: 0;}#sk-container-id-26 div.sk-serial {display: flex;flex-direction: column;align-items: center;background-color: white;padding-right: 0.2em;padding-left: 0.2em;position: relative;}#sk-container-id-26 div.sk-item {position: relative;z-index: 1;}#sk-container-id-26 div.sk-parallel {display: flex;align-items: stretch;justify-content: center;background-color: white;position: relative;}#sk-container-id-26 div.sk-item::before, #sk-container-id-26 div.sk-parallel-item::before {content: \"\";position: absolute;border-left: 1px solid gray;box-sizing: border-box;top: 0;bottom: 0;left: 50%;z-index: -1;}#sk-container-id-26 div.sk-parallel-item {display: flex;flex-direction: column;z-index: 1;position: relative;background-color: white;}#sk-container-id-26 div.sk-parallel-item:first-child::after {align-self: flex-end;width: 50%;}#sk-container-id-26 div.sk-parallel-item:last-child::after {align-self: flex-start;width: 50%;}#sk-container-id-26 div.sk-parallel-item:only-child::after {width: 0;}#sk-container-id-26 div.sk-dashed-wrapped {border: 1px dashed gray;margin: 0 0.4em 0.5em 0.4em;box-sizing: border-box;padding-bottom: 0.4em;background-color: white;}#sk-container-id-26 div.sk-label label {font-family: monospace;font-weight: bold;display: inline-block;line-height: 1.2em;}#sk-container-id-26 div.sk-label-container {text-align: center;}#sk-container-id-26 div.sk-container {/* jupyter's `normalize.less` sets `[hidden] { display: none; }` but bootstrap.min.css set `[hidden] { display: none !important; }` so we also need the `!important` here to be able to override the default hidden behavior on the sphinx rendered scikit-learn.org. See: https://github.com/scikit-learn/scikit-learn/issues/21755 */display: inline-block !important;position: relative;}#sk-container-id-26 div.sk-text-repr-fallback {display: none;}</style><div id=\"sk-container-id-26\" class=\"sk-top-container\"><div class=\"sk-text-repr-fallback\"><pre>DecisionTreeClassifier()</pre><b>In a Jupyter environment, please rerun this cell to show the HTML representation or trust the notebook. <br />On GitHub, the HTML representation is unable to render, please try loading this page with nbviewer.org.</b></div><div class=\"sk-container\" hidden><div class=\"sk-item\"><div class=\"sk-estimator sk-toggleable\"><input class=\"sk-toggleable__control sk-hidden--visually\" id=\"sk-estimator-id-26\" type=\"checkbox\" checked><label for=\"sk-estimator-id-26\" class=\"sk-toggleable__label sk-toggleable__label-arrow\">DecisionTreeClassifier</label><div class=\"sk-toggleable__content\"><pre>DecisionTreeClassifier()</pre></div></div></div></div></div>"
      ],
      "text/plain": [
       "DecisionTreeClassifier()"
      ]
     },
     "execution_count": 217,
     "metadata": {},
     "output_type": "execute_result"
    }
   ],
   "source": [
    "decision_tree_model = DecisionTreeClassifier()\n",
    "decision_tree_model.fit(x_train, y_train)"
   ]
  },
  {
   "cell_type": "code",
   "execution_count": 218,
   "id": "9c088640",
   "metadata": {},
   "outputs": [
    {
     "name": "stdout",
     "output_type": "stream",
     "text": [
      "Test Accuracy of logistic model:  0.8518518518518519\n",
      "Test Accuracy of decision tree model:  0.7555555555555555\n"
     ]
    }
   ],
   "source": [
    "# Check accuracy to compare\n",
    "\n",
    "# logistic model accuracy\n",
    "y_pred_logistic_model = logistic_model.predict(x_test)\n",
    "logistic_model_accuracy = accuracy_score(y_test, y_pred_logistic_model)\n",
    "print(\"Test Accuracy of logistic model: \", logistic_model_accuracy)\n",
    "\n",
    "# decision tree accuracy\n",
    "decision_tree_model_y_pred = decision_tree_model.predict(x_test)\n",
    "decision_tree_model_accuracy = accuracy_score(y_test, decision_tree_model_y_pred)\n",
    "print(\"Test Accuracy of decision tree model: \", decision_tree_model_accuracy)"
   ]
  },
  {
   "cell_type": "code",
   "execution_count": 219,
   "id": "1d5d77ad",
   "metadata": {},
   "outputs": [
    {
     "name": "stdout",
     "output_type": "stream",
     "text": [
      "Precision for logistic model:  0.85625\n",
      "Recall for logistic model:  0.8896103896103896\n",
      "F1-Score for logistic model:  0.8726114649681528\n",
      "\n",
      "Precision for decision tree model:  0.8142857142857143\n",
      "Recall for decision tree model:  0.7402597402597403\n",
      "F1-Score for decision tree model:  0.7755102040816325\n"
     ]
    }
   ],
   "source": [
    "# check other metrics to compare\n",
    "\n",
    "# logistic regression model\n",
    "precision_logistic = precision_score(y_test, y_pred_logistic_model) #how many positive predictions made were actually correct\n",
    "recall_logistic = recall_score(y_test, y_pred_logistic_model) #how many actual positive instances were correctly predicted\n",
    "f1_logistic = f1_score(y_test, y_pred_logistic_model) #combine precision and recall into a balanced measure\n",
    "\n",
    "print(\"Precision for logistic model: \", precision_logistic)\n",
    "print(\"Recall for logistic model: \", recall_logistic)\n",
    "print(\"F1-Score for logistic model: \", f1_logistic)\n",
    "\n",
    "# decision tree model\n",
    "precision_decision_tree = precision_score(y_test, decision_tree_model_y_pred)\n",
    "recall_decision_tree = recall_score(y_test, decision_tree_model_y_pred)\n",
    "f1_decision_tree = f1_score(y_test, decision_tree_model_y_pred)\n",
    "\n",
    "print(\"\\nPrecision for decision tree model: \", precision_decision_tree)\n",
    "print(\"Recall for decision tree model: \", recall_decision_tree)\n",
    "print(\"F1-Score for decision tree model: \", f1_decision_tree)"
   ]
  },
  {
   "cell_type": "code",
   "execution_count": 220,
   "id": "c683e0bd",
   "metadata": {},
   "outputs": [
    {
     "name": "stdout",
     "output_type": "stream",
     "text": [
      "Best Hyperparameters: {'C': 1}\n",
      "Test Accuracy of the tuned logistic model:  0.8518518518518519\n"
     ]
    }
   ],
   "source": [
    "# comparison results shows that the models that after dropping interacted columns performed better. Thus, the interacted columns are not helping in enhancing performance\n",
    "\n",
    "# https://machinelearningmastery.com/hyperparameters-for-classification-machine-learning-algorithms/\n",
    "# Hence, perform model tuning in each model\n",
    "\n",
    "# Logistic Model:\n",
    "from sklearn.model_selection import GridSearchCV\n",
    "from sklearn.linear_model import LogisticRegression\n",
    "\n",
    "param_grid = {\n",
    "    'C': [0.001, 0.01, 0.1, 1, 10, 100]  # Common C values\n",
    "}\n",
    "\n",
    "logistic_model = LogisticRegression()\n",
    "grid_search = GridSearchCV(logistic_model, param_grid, cv=5, scoring='accuracy')\n",
    "grid_search.fit(x_train, y_train)\n",
    "best_params = grid_search.best_params_ #get best\n",
    "print(\"Best Hyperparameters:\", best_params)\n",
    "\n",
    "# train the final model with best hyperparameters\n",
    "final_model = LogisticRegression(C=best_params['C'])\n",
    "final_model.fit(x_train, y_train)\n",
    "\n",
    "# evaluate\n",
    "test_accuracy = final_model.score(x_test, y_test)\n",
    "print(\"Test Accuracy of the tuned logistic model: \", test_accuracy)"
   ]
  },
  {
   "cell_type": "code",
   "execution_count": 221,
   "id": "c67bfd2a",
   "metadata": {},
   "outputs": [],
   "source": [
    "# the output of best hyperparameters is 10 means that the model with a moderate level of regularization performed the best on my test data\n",
    "# output shows my model that performed well on test data with accuracy of 87.41%"
   ]
  },
  {
   "cell_type": "code",
   "execution_count": 222,
   "id": "b2067c8d",
   "metadata": {},
   "outputs": [
    {
     "name": "stdout",
     "output_type": "stream",
     "text": [
      "Best Hyperparameters: {'max_depth': 10, 'min_samples_leaf': 5, 'min_samples_split': 10}\n",
      "Test Accuracy of the tuned decision tree model:  0.8185185185185185\n"
     ]
    }
   ],
   "source": [
    "# Decision Tree Model https://www.kaggle.com/code/gauravduttakiit/hyperparameter-tuning-in-decision-trees\n",
    "\n",
    "param_grid = {\n",
    "    'max_depth': [5, 10, 15, 20],\n",
    "    'min_samples_split': [2, 5, 7, 10],\n",
    "    'min_samples_leaf': [1, 2, 3, 4,5 ]\n",
    "}\n",
    "\n",
    "decision_tree_model = DecisionTreeClassifier()\n",
    "grid_search = GridSearchCV(decision_tree_model, param_grid, cv=5, scoring='accuracy')\n",
    "grid_search.fit(x_train, y_train)\n",
    "best_params = grid_search.best_params_\n",
    "print(\"Best Hyperparameters:\", best_params)\n",
    "\n",
    "final_model = DecisionTreeClassifier(\n",
    "    max_depth=best_params['max_depth'],\n",
    "    min_samples_split=best_params['min_samples_split'],\n",
    "    min_samples_leaf=best_params['min_samples_leaf']\n",
    ")\n",
    "final_model.fit(x_train, y_train)\n",
    "\n",
    "test_accuracy = final_model.score(x_test, y_test)\n",
    "print(\"Test Accuracy of the tuned decision tree model: \", test_accuracy)"
   ]
  },
  {
   "cell_type": "code",
   "execution_count": 223,
   "id": "66a589fa",
   "metadata": {},
   "outputs": [],
   "source": [
    "# The improvement in accuracy indicates that the tuned decision tree model is better at making predictions on my default model test data. It shows hyperparameter tuning to optimize my decision tree model's performance."
   ]
  },
  {
   "cell_type": "code",
   "execution_count": 224,
   "id": "f76b399d",
   "metadata": {},
   "outputs": [
    {
     "data": {
      "text/html": [
       "<style>#sk-container-id-27 {color: black;}#sk-container-id-27 pre{padding: 0;}#sk-container-id-27 div.sk-toggleable {background-color: white;}#sk-container-id-27 label.sk-toggleable__label {cursor: pointer;display: block;width: 100%;margin-bottom: 0;padding: 0.3em;box-sizing: border-box;text-align: center;}#sk-container-id-27 label.sk-toggleable__label-arrow:before {content: \"▸\";float: left;margin-right: 0.25em;color: #696969;}#sk-container-id-27 label.sk-toggleable__label-arrow:hover:before {color: black;}#sk-container-id-27 div.sk-estimator:hover label.sk-toggleable__label-arrow:before {color: black;}#sk-container-id-27 div.sk-toggleable__content {max-height: 0;max-width: 0;overflow: hidden;text-align: left;background-color: #f0f8ff;}#sk-container-id-27 div.sk-toggleable__content pre {margin: 0.2em;color: black;border-radius: 0.25em;background-color: #f0f8ff;}#sk-container-id-27 input.sk-toggleable__control:checked~div.sk-toggleable__content {max-height: 200px;max-width: 100%;overflow: auto;}#sk-container-id-27 input.sk-toggleable__control:checked~label.sk-toggleable__label-arrow:before {content: \"▾\";}#sk-container-id-27 div.sk-estimator input.sk-toggleable__control:checked~label.sk-toggleable__label {background-color: #d4ebff;}#sk-container-id-27 div.sk-label input.sk-toggleable__control:checked~label.sk-toggleable__label {background-color: #d4ebff;}#sk-container-id-27 input.sk-hidden--visually {border: 0;clip: rect(1px 1px 1px 1px);clip: rect(1px, 1px, 1px, 1px);height: 1px;margin: -1px;overflow: hidden;padding: 0;position: absolute;width: 1px;}#sk-container-id-27 div.sk-estimator {font-family: monospace;background-color: #f0f8ff;border: 1px dotted black;border-radius: 0.25em;box-sizing: border-box;margin-bottom: 0.5em;}#sk-container-id-27 div.sk-estimator:hover {background-color: #d4ebff;}#sk-container-id-27 div.sk-parallel-item::after {content: \"\";width: 100%;border-bottom: 1px solid gray;flex-grow: 1;}#sk-container-id-27 div.sk-label:hover label.sk-toggleable__label {background-color: #d4ebff;}#sk-container-id-27 div.sk-serial::before {content: \"\";position: absolute;border-left: 1px solid gray;box-sizing: border-box;top: 0;bottom: 0;left: 50%;z-index: 0;}#sk-container-id-27 div.sk-serial {display: flex;flex-direction: column;align-items: center;background-color: white;padding-right: 0.2em;padding-left: 0.2em;position: relative;}#sk-container-id-27 div.sk-item {position: relative;z-index: 1;}#sk-container-id-27 div.sk-parallel {display: flex;align-items: stretch;justify-content: center;background-color: white;position: relative;}#sk-container-id-27 div.sk-item::before, #sk-container-id-27 div.sk-parallel-item::before {content: \"\";position: absolute;border-left: 1px solid gray;box-sizing: border-box;top: 0;bottom: 0;left: 50%;z-index: -1;}#sk-container-id-27 div.sk-parallel-item {display: flex;flex-direction: column;z-index: 1;position: relative;background-color: white;}#sk-container-id-27 div.sk-parallel-item:first-child::after {align-self: flex-end;width: 50%;}#sk-container-id-27 div.sk-parallel-item:last-child::after {align-self: flex-start;width: 50%;}#sk-container-id-27 div.sk-parallel-item:only-child::after {width: 0;}#sk-container-id-27 div.sk-dashed-wrapped {border: 1px dashed gray;margin: 0 0.4em 0.5em 0.4em;box-sizing: border-box;padding-bottom: 0.4em;background-color: white;}#sk-container-id-27 div.sk-label label {font-family: monospace;font-weight: bold;display: inline-block;line-height: 1.2em;}#sk-container-id-27 div.sk-label-container {text-align: center;}#sk-container-id-27 div.sk-container {/* jupyter's `normalize.less` sets `[hidden] { display: none; }` but bootstrap.min.css set `[hidden] { display: none !important; }` so we also need the `!important` here to be able to override the default hidden behavior on the sphinx rendered scikit-learn.org. See: https://github.com/scikit-learn/scikit-learn/issues/21755 */display: inline-block !important;position: relative;}#sk-container-id-27 div.sk-text-repr-fallback {display: none;}</style><div id=\"sk-container-id-27\" class=\"sk-top-container\"><div class=\"sk-text-repr-fallback\"><pre>DecisionTreeClassifier(max_depth=3)</pre><b>In a Jupyter environment, please rerun this cell to show the HTML representation or trust the notebook. <br />On GitHub, the HTML representation is unable to render, please try loading this page with nbviewer.org.</b></div><div class=\"sk-container\" hidden><div class=\"sk-item\"><div class=\"sk-estimator sk-toggleable\"><input class=\"sk-toggleable__control sk-hidden--visually\" id=\"sk-estimator-id-27\" type=\"checkbox\" checked><label for=\"sk-estimator-id-27\" class=\"sk-toggleable__label sk-toggleable__label-arrow\">DecisionTreeClassifier</label><div class=\"sk-toggleable__content\"><pre>DecisionTreeClassifier(max_depth=3)</pre></div></div></div></div></div>"
      ],
      "text/plain": [
       "DecisionTreeClassifier(max_depth=3)"
      ]
     },
     "execution_count": 224,
     "metadata": {},
     "output_type": "execute_result"
    }
   ],
   "source": [
    "from sklearn.tree import DecisionTreeClassifier\n",
    "decision_tree_model = DecisionTreeClassifier(max_depth=3)\n",
    "decision_tree_model.fit(x_train, y_train)"
   ]
  },
  {
   "cell_type": "code",
   "execution_count": 225,
   "id": "51868143",
   "metadata": {},
   "outputs": [
    {
     "data": {
      "image/png": "[encoded data removed]",
      "text/plain": [
       "<Figure size 1200x800 with 1 Axes>"
      ]
     },
     "metadata": {},
     "output_type": "display_data"
    }
   ],
   "source": [
    "from sklearn import tree #https://www.kaggle.com/code/gauravduttakiit/hyperparameter-tuning-in-decision-trees\n",
    "\n",
    "fig = plt.figure(figsize=(12, 8))\n",
    "_ = tree.plot_tree(\n",
    "    decision_tree_model,\n",
    "    feature_names=x_train.columns,\n",
    "    class_names=['No Disease', 'Disease'], #No Disease(no heart disease)\n",
    "    filled=True\n",
    ")\n",
    "plt.show() # shows the decision tree that make decision based on which feature\n"
   ]
  }
 ],
 "metadata": {
  "kernelspec": {
   "display_name": "Python 3 (ipykernel)",
   "language": "python",
   "name": "python3"
  },
  "language_info": {
   "codemirror_mode": {
    "name": "ipython",
    "version": 3
   },
   "file_extension": ".py",
   "mimetype": "text/x-python",
   "name": "python",
   "nbconvert_exporter": "python",
   "pygments_lexer": "ipython3",
   "version": "3.11.4"
  }
 },
 "nbformat": 4,
 "nbformat_minor": 5
}
